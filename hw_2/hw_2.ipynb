{
 "cells": [
  {
   "cell_type": "markdown",
   "id": "0f7ed495",
   "metadata": {},
   "source": [
    "# HW2: Plotting & viz\n",
    "\n",
    "due Tuesday Feb 8, 2021 @ 8pm\n",
    "\n",
    "**submission instructions:**\n",
    "make a new directory in your HW github repo\n",
    "(e.g., `<yourname>_hw_2/`)"
   ]
  },
  {
   "cell_type": "markdown",
   "id": "fb096b66",
   "metadata": {},
   "source": [
    "## Critique the most important figure from a seminal paper in your field\n",
    "\n",
    "a) Embed (using `<img src= ...`) the original figure/caption along with a link to the original work. "
   ]
  },
  {
   "cell_type": "code",
   "execution_count": null,
   "id": "bbdae62f",
   "metadata": {},
   "outputs": [],
   "source": []
  },
  {
   "cell_type": "markdown",
   "id": "1752e816",
   "metadata": {},
   "source": [
    "b) In your own words, what story is this figure trying to convey? What does it do well? What could have been done better? What elements didn't need to be present to still convey the same story?"
   ]
  },
  {
   "cell_type": "code",
   "execution_count": null,
   "id": "d36a0832",
   "metadata": {},
   "outputs": [],
   "source": []
  },
  {
   "cell_type": "markdown",
   "id": "9c2c6553",
   "metadata": {},
   "source": [
    "## Reproduce one of your old published-paper quality plots with Bokeh or matplotlib.\n",
    "\n",
    "a) Provide the original plot, the recreated Bokeh/matlibplot plot, and the Python code used to make the new plot.  You can ask us for an example from us if you don't have your own plots."
   ]
  },
  {
   "cell_type": "code",
   "execution_count": null,
   "id": "ef00e3a2",
   "metadata": {},
   "outputs": [],
   "source": []
  },
  {
   "cell_type": "markdown",
   "id": "d127c07a",
   "metadata": {},
   "source": [
    "b) Add some (new) dynamic interactions to the plot--does it help tell your story better?"
   ]
  },
  {
   "cell_type": "code",
   "execution_count": null,
   "id": "6bc22247",
   "metadata": {},
   "outputs": [],
   "source": []
  },
  {
   "cell_type": "markdown",
   "id": "3d54a641",
   "metadata": {},
   "source": [
    "##  Volcano-induced Blastwave moving through California in 2022\n",
    "\n",
    "<img src=\"https://upload.wikimedia.org/wikipedia/commons/thumb/f/f9/Shockwave_from_Hunga_Tonga_GOES_17.gif/440px-Shockwave_from_Hunga_Tonga_GOES_17.gif\" width=\"30%\">\n",
    "\n",
    "The massive volcanic eruption near Tonga in the Pacific Ocean (20.550°S 175.385°W) occurred at 04:14:45 [UTC](https://en.wikipedia.org/wiki/Coordinated_Universal_Time) on 15 January 2022. The above animation (credit: Tim Schmit, NOAA/NESDIS/ASPB) shows propogation of the shockwave across the Earth as seen from space (using infrared measurements of water vapor). That shockwave was also measured as changing pressure in weather stations around the world. \n",
    "\n",
    "a) The CSV file `data/california_pressure_2022_01_15.csv` contains [Automated Surface Observing System (ASOS)](https://mesonet.agron.iastate.edu/ASOS/) pressure measurements at 64 stations in California taken several hours later that day, observed with 1-minute resolution. Read this data into a `pandas` DataFrame and then plot in the same figure the pressure as a function of time at SBA (Santa Barbara Municipal Airport, in Southern California), OAK (Oakland Airport, Bay Area), and MHS (Mount Shasta City, in Northern California). To allow a better visual comparison between the three, divide each plot by the initial value at the start of each of the timeseries. Overplot a 5-min thick vertical line for each timeseries (with the same color as the line) at the maximum of that series."
   ]
  },
  {
   "cell_type": "code",
   "execution_count": null,
   "id": "22a3ba6f",
   "metadata": {},
   "outputs": [],
   "source": []
  },
  {
   "cell_type": "markdown",
   "id": "a2932de8",
   "metadata": {},
   "source": [
    "b) What can you say about the similarity or dissimilarity of the three series? Why argument can you make that the similarities are due to the Tongan shockwave and not other effects? What do you notice about the location of the maximum of the three series?"
   ]
  },
  {
   "cell_type": "code",
   "execution_count": null,
   "id": "b57fbfa7",
   "metadata": {},
   "outputs": [],
   "source": []
  },
  {
   "cell_type": "markdown",
   "id": "752ac39c",
   "metadata": {},
   "source": [
    "c) On a map of California, create a static vizualization of the timelag of the passage of the shockwave through the 64 stations in California. You might find it helpful to detect significant changes at each station using rolling percent changes on ~5-10 minute intervals (cf. [`.pct_change(periods=...)`](https://pandas.pydata.org/docs/reference/api/pandas.DataFrame.pct_change.html) in pandas). The file `data/ca_asos.csv` contains the latitude and longitude of the stations. "
   ]
  },
  {
   "cell_type": "code",
   "execution_count": null,
   "id": "3c51940a",
   "metadata": {},
   "outputs": [],
   "source": []
  },
  {
   "cell_type": "markdown",
   "id": "763aa13d",
   "metadata": {},
   "source": [
    "d) Pick one station and determine when you believe the shockwave first passed through that station. Using this information and the time of the explosion determine the speed of the shockwave. How does this compare to the speed of sound in air?"
   ]
  },
  {
   "cell_type": "code",
   "execution_count": null,
   "id": "688a8a4a",
   "metadata": {},
   "outputs": [],
   "source": []
  },
  {
   "cell_type": "markdown",
   "id": "81c436e1",
   "metadata": {},
   "source": [
    "**EXTRA CREDIT**  Produce an animation of passage of the shockwave through California using this dataset. Hint: take at look at `matplotlib.animation.FuncAnimation`."
   ]
  },
  {
   "cell_type": "code",
   "execution_count": null,
   "id": "02d68f83",
   "metadata": {},
   "outputs": [],
   "source": []
  }
 ],
 "metadata": {
  "kernelspec": {
   "display_name": "py3.9 AY250",
   "language": "python",
   "name": "ay250"
  },
  "language_info": {
   "codemirror_mode": {
    "name": "ipython",
    "version": 3
   },
   "file_extension": ".py",
   "mimetype": "text/x-python",
   "name": "python",
   "nbconvert_exporter": "python",
   "pygments_lexer": "ipython3",
   "version": "3.9.9"
  },
  "toc": {
   "base_numbering": 1,
   "nav_menu": {},
   "number_sections": true,
   "sideBar": true,
   "skip_h1_title": false,
   "title_cell": "Table of Contents",
   "title_sidebar": "Contents",
   "toc_cell": false,
   "toc_position": {},
   "toc_section_display": true,
   "toc_window_display": false
  },
  "varInspector": {
   "cols": {
    "lenName": 16,
    "lenType": 16,
    "lenVar": 40
   },
   "kernels_config": {
    "python": {
     "delete_cmd_postfix": "",
     "delete_cmd_prefix": "del ",
     "library": "var_list.py",
     "varRefreshCmd": "print(var_dic_list())"
    },
    "r": {
     "delete_cmd_postfix": ") ",
     "delete_cmd_prefix": "rm(",
     "library": "var_list.r",
     "varRefreshCmd": "cat(var_dic_list()) "
    }
   },
   "types_to_exclude": [
    "module",
    "function",
    "builtin_function_or_method",
    "instance",
    "_Feature"
   ],
   "window_display": false
  }
 },
 "nbformat": 4,
 "nbformat_minor": 5
}
