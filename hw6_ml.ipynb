{
  "cells": [
    {
      "cell_type": "markdown",
      "metadata": {
        "id": "view-in-github",
        "colab_type": "text"
      },
      "source": [
        "<a href=\"https://colab.research.google.com/github/emolter/ay250-homework/blob/main/hw6_ml.ipynb\" target=\"_parent\"><img src=\"https://colab.research.google.com/assets/colab-badge.svg\" alt=\"Open In Colab\"/></a>"
      ]
    },
    {
      "cell_type": "markdown",
      "id": "aging-schema",
      "metadata": {
        "id": "aging-schema"
      },
      "source": [
        "# HW6: Machine learning\n",
        "\n",
        "**Due Wednesday April 6, 8pm**\n",
        "\n",
        "(AY250 2022)"
      ]
    },
    {
      "cell_type": "markdown",
      "id": "tough-median",
      "metadata": {
        "id": "tough-median"
      },
      "source": [
        "## Galaxy Classification with CNNs\n",
        "\n",
        "Galaxies appear with different shapes and colors depending on a number of factors, including age, distance, and history of mergers with other galaxies. A crowd-sourced group was [asked to visually classify a set of galaxies from a telescope survey](https://data.galaxyzoo.org/gz_trees/gz_trees.html), resulting in a labelled dataset of 21,785 galaxies across 10 different labels.\n",
        "\n",
        "You can download it locally:\n",
        "```bash\n",
        "curl -o galaxies10.h5 http://astro.utoronto.ca/~bovy/Galaxy10/Galaxy10.h5\n",
        "```\n",
        "Or access it on the shared drive on `astro.datahub.berkeley.edu` at `shared/HW_6/galaxies10.h5`"
      ]
    },
    {
      "cell_type": "markdown",
      "id": "collaborative-consortium",
      "metadata": {
        "id": "collaborative-consortium"
      },
      "source": [
        "First, load the data:"
      ]
    },
    {
      "cell_type": "code",
      "source": [
        "!curl -o galaxies10.h5 http://astro.utoronto.ca/~bovy/Galaxy10/Galaxy10.h5"
      ],
      "metadata": {
        "colab": {
          "base_uri": "https://localhost:8080/"
        },
        "id": "Njq92qrmqgE7",
        "outputId": "0532512d-d0d5-41e7-ec84-686d8b26b977"
      },
      "id": "Njq92qrmqgE7",
      "execution_count": null,
      "outputs": [
        {
          "output_type": "stream",
          "name": "stdout",
          "text": [
            "  % Total    % Received % Xferd  Average Speed   Time    Time     Time  Current\n",
            "                                 Dload  Upload   Total   Spent    Left  Speed\n",
            "100  200M  100  200M    0     0  49.7M      0  0:00:04  0:00:04 --:--:-- 49.7M\n"
          ]
        }
      ]
    },
    {
      "cell_type": "code",
      "execution_count": null,
      "id": "automatic-civilization",
      "metadata": {
        "colab": {
          "base_uri": "https://localhost:8080/"
        },
        "id": "automatic-civilization",
        "outputId": "84e868fd-0cce-42cf-9f2c-a8f441456849"
      },
      "outputs": [
        {
          "output_type": "stream",
          "name": "stdout",
          "text": [
            "labels shape: (21785, 10)\n",
            "images shape: (21785, 69, 69, 3)\n"
          ]
        }
      ],
      "source": [
        "import h5py\n",
        "import numpy as np\n",
        "from tensorflow.keras import utils\n",
        "\n",
        "# To get the images and labels from file\n",
        "with h5py.File('galaxies10.h5', 'r') as F:\n",
        "    images = np.array(F['images'])\n",
        "    labels = np.array(F['ans'])\n",
        "\n",
        "# Convert the labels to categorical 10 classes\n",
        "labels = utils.to_categorical(labels, 10)\n",
        "\n",
        "# Convert to desirable type\n",
        "labels = labels.astype(np.float32)\n",
        "images = images.astype(np.float32)\n",
        "\n",
        "print(f\"labels shape: {labels.shape}\")\n",
        "print(f\"images shape: {images.shape}\")"
      ]
    },
    {
      "cell_type": "markdown",
      "id": "standard-thinking",
      "metadata": {
        "id": "standard-thinking"
      },
      "source": [
        "### Visualize and inspect\n",
        "\n",
        "In a single, multi-panel figure visualize one randomly chosen galaxy from each of the 10 classes. Be sure to set the random seed so that your figure will be reproducible. "
      ]
    },
    {
      "cell_type": "code",
      "execution_count": null,
      "id": "66e5d05d",
      "metadata": {
        "colab": {
          "base_uri": "https://localhost:8080/"
        },
        "id": "66e5d05d",
        "outputId": "e91573c1-62f3-4cfb-fdad-b20b9434a7ef"
      },
      "outputs": [
        {
          "output_type": "stream",
          "name": "stdout",
          "text": [
            "[[0. 0. 1. 0. 0. 0. 0. 0. 0. 0.]\n",
            " [0. 0. 1. 0. 0. 0. 0. 0. 0. 0.]\n",
            " [0. 0. 0. 0. 1. 0. 0. 0. 0. 0.]\n",
            " [0. 0. 1. 0. 0. 0. 0. 0. 0. 0.]\n",
            " [0. 0. 0. 0. 1. 0. 0. 0. 0. 0.]\n",
            " [0. 1. 0. 0. 0. 0. 0. 0. 0. 0.]\n",
            " [0. 1. 0. 0. 0. 0. 0. 0. 0. 0.]\n",
            " [0. 1. 0. 0. 0. 0. 0. 0. 0. 0.]\n",
            " [0. 1. 0. 0. 0. 0. 0. 0. 0. 0.]\n",
            " [0. 0. 0. 0. 0. 0. 0. 1. 0. 0.]]\n"
          ]
        }
      ],
      "source": [
        "print(labels[:10,:])"
      ]
    },
    {
      "cell_type": "code",
      "execution_count": null,
      "id": "relevant-edgar",
      "metadata": {
        "colab": {
          "base_uri": "https://localhost:8080/",
          "height": 500
        },
        "id": "relevant-edgar",
        "outputId": "727f11ec-45a1-400e-ec4e-9acaf00669d8"
      },
      "outputs": [
        {
          "output_type": "stream",
          "name": "stdout",
          "text": [
            "sorted index 3196 chosen, has type 0\n",
            "sorted index 5580 chosen, has type 1\n",
            "sorted index 14126 chosen, has type 2\n",
            "sorted index 16907 chosen, has type 3\n",
            "sorted index 18290 chosen, has type 4\n",
            "sorted index 18638 chosen, has type 5\n",
            "sorted index 19074 chosen, has type 6\n",
            "sorted index 19862 chosen, has type 7\n",
            "sorted index 20484 chosen, has type 8\n",
            "sorted index 21477 chosen, has type 9\n"
          ]
        },
        {
          "output_type": "display_data",
          "data": {
            "text/plain": [
              "<Figure size 720x432 with 10 Axes>"
            ],
            "image/png": "[encoded data removed]"
          },
          "metadata": {
            "needs_background": "light"
          }
        }
      ],
      "source": [
        "%matplotlib inline\n",
        "import matplotlib.pyplot as plt\n",
        "\n",
        "rng = np.random.default_rng(404)\n",
        "\n",
        "_, labels_1d = np.nonzero(labels)\n",
        "labels_sorted = np.sort(labels_1d)\n",
        "labels_idx = np.argsort(labels_1d)\n",
        "images_sorted = images[labels_idx]\n",
        "unq, unq_idx = np.unique(labels_sorted, return_index = True)\n",
        "unq_idx = np.append(unq_idx, labels_1d.shape[0])\n",
        "\n",
        "fig, axes = plt.subplots(2,5, figsize = (10, 6))\n",
        "\n",
        "for i in range(len(unq)):\n",
        "    j = rng.integers(unq_idx[i], unq_idx[i+1], size = 1)[0]\n",
        "    print(f'sorted index {j} chosen, has type {labels_sorted[j]}')\n",
        "    ax = axes.flatten()[i]\n",
        "    \n",
        "    # need these as type int or else clips them all between 0 and 1\n",
        "    ax.imshow(images_sorted[j].astype(int), origin = 'lower')\n",
        "    \n",
        "plt.show()"
      ]
    },
    {
      "cell_type": "markdown",
      "id": "hollywood-telescope",
      "metadata": {
        "id": "hollywood-telescope"
      },
      "source": [
        "Show a histogram of the distribution of galaxies across classes. Comment on any differences you notice with this dataset and the MNIST."
      ]
    },
    {
      "cell_type": "code",
      "execution_count": null,
      "id": "ranking-federal",
      "metadata": {
        "colab": {
          "base_uri": "https://localhost:8080/",
          "height": 279
        },
        "id": "ranking-federal",
        "outputId": "6e7b4bed-26fe-4287-c1c1-06517fc72fae"
      },
      "outputs": [
        {
          "output_type": "display_data",
          "data": {
            "text/plain": [
              "<Figure size 432x288 with 1 Axes>"
            ],
            "image/png": "[encoded data removed]"
          },
          "metadata": {
            "needs_background": "light"
          }
        }
      ],
      "source": [
        "plt.hist(labels_1d)\n",
        "plt.xlabel('galaxy type index')\n",
        "plt.ylabel('number of samples in dset')\n",
        "plt.show()"
      ]
    },
    {
      "cell_type": "markdown",
      "id": "24a3121e",
      "metadata": {
        "id": "24a3121e"
      },
      "source": [
        "Unlike the MNIST dataset, the distribution is very heterogeneous: there are many more galaxies of types 1 and 2 than the other types.  There are almost no galaxies of type 5, for example"
      ]
    },
    {
      "cell_type": "markdown",
      "id": "wrapped-means",
      "metadata": {
        "id": "wrapped-means"
      },
      "source": [
        "### Prepare for training\n",
        "\n",
        "First, split the dataset into a train, validation, and test set with a fixed random seed. Then, construct a simple (~few layers) CNN that will accommodate the 69x69x3 images and return a classification. Hint: you will need to modify the networks we built in class to handle the 3d inputs (check out `Conv3D` https://www.tensorflow.org/api_docs/python/tf/keras/layers/Conv3D)."
      ]
    },
    {
      "cell_type": "code",
      "execution_count": null,
      "id": "imperial-delight",
      "metadata": {
        "colab": {
          "base_uri": "https://localhost:8080/"
        },
        "id": "imperial-delight",
        "outputId": "14ee811c-5de8-4ddf-86db-fffd6e168a12"
      },
      "outputs": [
        {
          "output_type": "stream",
          "name": "stdout",
          "text": [
            "Using tensorflow version: 2.8.0\n"
          ]
        }
      ],
      "source": [
        "import datetime, os\n",
        "import warnings\n",
        "\n",
        "from IPython.external import mathjax\n",
        "\n",
        "import tensorflow.keras\n",
        "from tensorflow.keras.datasets import mnist\n",
        "from tensorflow.keras.models import Sequential\n",
        "from tensorflow.keras.layers import Dense, Dropout, Flatten\n",
        "from tensorflow.keras.layers import (\n",
        "    Conv2D, MaxPooling2D, Activation, BatchNormalization, Conv3D, MaxPooling3D\n",
        ")\n",
        "from tensorflow.keras import backend as K\n",
        "import tensorflow as tf\n",
        "tf.compat.v1.logging.set_verbosity(tf.compat.v1.logging.ERROR)\n",
        "\n",
        "warnings.filterwarnings(\"ignore\", category=DeprecationWarning) \n",
        "warnings.filterwarnings(\"ignore\", category=FutureWarning) \n",
        "# Print keras version\n",
        "print(\"Using tensorflow version:\", tensorflow.keras.__version__)"
      ]
    },
    {
      "cell_type": "code",
      "execution_count": null,
      "id": "7cffcd62",
      "metadata": {
        "colab": {
          "base_uri": "https://localhost:8080/"
        },
        "id": "7cffcd62",
        "outputId": "a799bcf0-1c98-4b4d-ed4a-536966693e1d"
      },
      "outputs": [
        {
          "output_type": "stream",
          "name": "stdout",
          "text": [
            "training set, test set, and validation set shapes: ((9803, 69, 69, 3), (9803, 69, 69, 3), (2179, 69, 69, 3))\n"
          ]
        }
      ],
      "source": [
        "# split data here\n",
        "rng = np.random.default_rng(404)\n",
        "indices = np.arange(0,images.shape[0])\n",
        "rng.shuffle(indices)\n",
        "\n",
        "images_shuffled = images[indices,:,:,:]\n",
        "labels_shuffled = labels[indices,:]\n",
        "\n",
        "cut1 = int(images.shape[0]*0.45)\n",
        "cut2 = int(images.shape[0]*0.9)\n",
        "training_i = indices[:cut1]\n",
        "test_i = indices[cut1:cut2]\n",
        "validation_i = indices[cut2:]\n",
        "\n",
        "training_set = images[training_i] # 45%\n",
        "training_labels = labels[training_i]\n",
        "test_set = images[test_i] # 45%\n",
        "test_labels = labels[test_i]\n",
        "validation_set = images[validation_i] # 10%\n",
        "validation_labels = labels[validation_i]\n",
        "\n",
        "input_shape = training_set[0].shape  + (1,)\n",
        "nb_classes = 10\n",
        "\n",
        "print(f'training set, test set, and validation set shapes: {training_set.shape, test_set.shape, validation_set.shape}')\n"
      ]
    },
    {
      "cell_type": "code",
      "execution_count": null,
      "id": "a3a33d57",
      "metadata": {
        "id": "a3a33d57"
      },
      "outputs": [],
      "source": [
        "# add with tf.device('/gpu:0'): if on GPU\n",
        "\n",
        "with tf.device('/gpu:0'):\n",
        "    model = Sequential()\n",
        "\n",
        "    model.add(Conv3D(32, (3, 3, 1), input_shape=input_shape))\n",
        "    model.add(BatchNormalization())\n",
        "    model.add(Activation('relu'))\n",
        "    model.add(MaxPooling3D(pool_size=(2, 2, 1)))\n",
        "\n",
        "    model.add(Conv3D(64, (3, 3, 1), input_shape=input_shape))\n",
        "    model.add(Activation('relu'))\n",
        "    model.add(MaxPooling3D(pool_size=(3, 3, 1)))\n",
        "\n",
        "    #model.add(Conv3D(128, (3, 3, 1), input_shape=input_shape))\n",
        "    #model.add(Activation('relu'))\n",
        "\n",
        "    model.add(Flatten())\n",
        "\n",
        "    #model.add(Dense(128, activation='relu'))\n",
        "\n",
        "    model.add(Dense(32, activation='relu'))\n",
        "\n",
        "\n",
        "    model.add(Dense(nb_classes))\n",
        "    model.add(Activation('softmax'))"
      ]
    },
    {
      "cell_type": "code",
      "execution_count": null,
      "id": "512281b8",
      "metadata": {
        "colab": {
          "base_uri": "https://localhost:8080/"
        },
        "id": "512281b8",
        "outputId": "d3c8f744-5be5-41cb-fcfe-82b58668d329"
      },
      "outputs": [
        {
          "output_type": "stream",
          "name": "stdout",
          "text": [
            "Model: \"sequential\"\n",
            "_________________________________________________________________\n",
            " Layer (type)                Output Shape              Param #   \n",
            "=================================================================\n",
            " conv3d (Conv3D)             (None, 67, 67, 3, 32)     320       \n",
            "                                                                 \n",
            " batch_normalization (BatchN  (None, 67, 67, 3, 32)    128       \n",
            " ormalization)                                                   \n",
            "                                                                 \n",
            " activation (Activation)     (None, 67, 67, 3, 32)     0         \n",
            "                                                                 \n",
            " max_pooling3d (MaxPooling3D  (None, 33, 33, 3, 32)    0         \n",
            " )                                                               \n",
            "                                                                 \n",
            " conv3d_1 (Conv3D)           (None, 31, 31, 3, 64)     18496     \n",
            "                                                                 \n",
            " activation_1 (Activation)   (None, 31, 31, 3, 64)     0         \n",
            "                                                                 \n",
            " max_pooling3d_1 (MaxPooling  (None, 10, 10, 3, 64)    0         \n",
            " 3D)                                                             \n",
            "                                                                 \n",
            " flatten_1 (Flatten)         (None, 19200)             0         \n",
            "                                                                 \n",
            " dense_1 (Dense)             (None, 32)                614432    \n",
            "                                                                 \n",
            " dense_2 (Dense)             (None, 10)                330       \n",
            "                                                                 \n",
            " activation_2 (Activation)   (None, 10)                0         \n",
            "                                                                 \n",
            "=================================================================\n",
            "Total params: 633,706\n",
            "Trainable params: 633,642\n",
            "Non-trainable params: 64\n",
            "_________________________________________________________________\n"
          ]
        }
      ],
      "source": [
        "model.summary()"
      ]
    },
    {
      "cell_type": "markdown",
      "id": "embedded-sailing",
      "metadata": {
        "id": "embedded-sailing"
      },
      "source": [
        "### Train\n",
        "\n",
        "Using early stopping and learning rate decay, train the network you built. Use the validation dataset at the end of each epoch for the early stopping. You might decide to do this part on colab for GPU access."
      ]
    },
    {
      "cell_type": "code",
      "execution_count": null,
      "id": "fatty-failure",
      "metadata": {
        "id": "fatty-failure"
      },
      "outputs": [],
      "source": [
        "model.compile(optimizer='adam',\n",
        "                loss='categorical_crossentropy',\n",
        "                metrics=['accuracy'])"
      ]
    },
    {
      "cell_type": "code",
      "execution_count": null,
      "id": "8b6e61f6",
      "metadata": {
        "colab": {
          "base_uri": "https://localhost:8080/"
        },
        "id": "8b6e61f6",
        "outputId": "e99a4738-7289-44ca-b786-4c3f5887ac48"
      },
      "outputs": [
        {
          "output_type": "stream",
          "name": "stdout",
          "text": [
            "Training ... nn_results/galaxies_nn_2022-04-03T23:13.h5\n",
            "Epoch 1/20\n",
            "77/77 [==============================] - ETA: 0s - loss: 2.0002 - accuracy: 0.3379\n",
            "Epoch 1: val_accuracy improved from -inf to 0.33043, saving model to nn_results/galaxies_nn_2022-04-03T23:13.h5\n",
            "77/77 [==============================] - 28s 232ms/step - loss: 2.0002 - accuracy: 0.3379 - val_loss: 1.7518 - val_accuracy: 0.3304 - lr: 0.0010\n",
            "Epoch 2/20\n",
            "77/77 [==============================] - ETA: 0s - loss: 1.4703 - accuracy: 0.4240\n",
            "Epoch 2: val_accuracy improved from 0.33043 to 0.39192, saving model to nn_results/galaxies_nn_2022-04-03T23:13.h5\n",
            "77/77 [==============================] - 17s 222ms/step - loss: 1.4703 - accuracy: 0.4240 - val_loss: 1.4787 - val_accuracy: 0.3919 - lr: 0.0010\n",
            "Epoch 3/20\n",
            "77/77 [==============================] - ETA: 0s - loss: 1.2641 - accuracy: 0.4985\n",
            "Epoch 3: val_accuracy improved from 0.39192 to 0.46489, saving model to nn_results/galaxies_nn_2022-04-03T23:13.h5\n",
            "77/77 [==============================] - 17s 222ms/step - loss: 1.2641 - accuracy: 0.4985 - val_loss: 1.2883 - val_accuracy: 0.4649 - lr: 0.0010\n",
            "Epoch 4/20\n",
            "77/77 [==============================] - ETA: 0s - loss: 1.1229 - accuracy: 0.5546\n",
            "Epoch 4: val_accuracy improved from 0.46489 to 0.54429, saving model to nn_results/galaxies_nn_2022-04-03T23:13.h5\n",
            "77/77 [==============================] - 17s 223ms/step - loss: 1.1229 - accuracy: 0.5546 - val_loss: 1.1858 - val_accuracy: 0.5443 - lr: 0.0010\n",
            "Epoch 5/20\n",
            "77/77 [==============================] - ETA: 0s - loss: 1.0280 - accuracy: 0.6017\n",
            "Epoch 5: val_accuracy improved from 0.54429 to 0.57320, saving model to nn_results/galaxies_nn_2022-04-03T23:13.h5\n",
            "77/77 [==============================] - 17s 222ms/step - loss: 1.0280 - accuracy: 0.6017 - val_loss: 1.1315 - val_accuracy: 0.5732 - lr: 0.0010\n",
            "Epoch 6/20\n",
            "77/77 [==============================] - ETA: 0s - loss: 0.9258 - accuracy: 0.6444\n",
            "Epoch 6: val_accuracy did not improve from 0.57320\n",
            "77/77 [==============================] - 17s 220ms/step - loss: 0.9258 - accuracy: 0.6444 - val_loss: 1.2474 - val_accuracy: 0.4869 - lr: 0.0010\n",
            "Epoch 7/20\n",
            "77/77 [==============================] - ETA: 0s - loss: 0.8346 - accuracy: 0.6918\n",
            "Epoch 7: val_accuracy improved from 0.57320 to 0.62598, saving model to nn_results/galaxies_nn_2022-04-03T23:13.h5\n",
            "77/77 [==============================] - 17s 221ms/step - loss: 0.8346 - accuracy: 0.6918 - val_loss: 1.0602 - val_accuracy: 0.6260 - lr: 0.0010\n",
            "Epoch 8/20\n",
            "77/77 [==============================] - ETA: 0s - loss: 0.7457 - accuracy: 0.7258\n",
            "Epoch 8: val_accuracy improved from 0.62598 to 0.63561, saving model to nn_results/galaxies_nn_2022-04-03T23:13.h5\n",
            "77/77 [==============================] - 17s 222ms/step - loss: 0.7457 - accuracy: 0.7258 - val_loss: 0.9887 - val_accuracy: 0.6356 - lr: 0.0010\n",
            "Epoch 9/20\n",
            "77/77 [==============================] - ETA: 0s - loss: 0.6766 - accuracy: 0.7497\n",
            "Epoch 9: val_accuracy did not improve from 0.63561\n",
            "77/77 [==============================] - 17s 221ms/step - loss: 0.6766 - accuracy: 0.7497 - val_loss: 1.0895 - val_accuracy: 0.5792 - lr: 0.0010\n",
            "Epoch 10/20\n",
            "77/77 [==============================] - ETA: 0s - loss: 0.6139 - accuracy: 0.7768\n",
            "Epoch 10: ReduceLROnPlateau reducing learning rate to 0.0007500000356230885.\n",
            "\n",
            "Epoch 10: val_accuracy did not improve from 0.63561\n",
            "77/77 [==============================] - 17s 221ms/step - loss: 0.6139 - accuracy: 0.7768 - val_loss: 1.1087 - val_accuracy: 0.5902 - lr: 0.0010\n",
            "Epoch 11/20\n",
            "77/77 [==============================] - ETA: 0s - loss: 0.5351 - accuracy: 0.8051\n",
            "Epoch 11: val_accuracy improved from 0.63561 to 0.64571, saving model to nn_results/galaxies_nn_2022-04-03T23:13.h5\n",
            "77/77 [==============================] - 17s 222ms/step - loss: 0.5351 - accuracy: 0.8051 - val_loss: 1.0863 - val_accuracy: 0.6457 - lr: 7.5000e-04\n",
            "Epoch 12/20\n",
            "77/77 [==============================] - ETA: 0s - loss: 0.4814 - accuracy: 0.8282\n",
            "Epoch 12: val_accuracy improved from 0.64571 to 0.65672, saving model to nn_results/galaxies_nn_2022-04-03T23:13.h5\n",
            "77/77 [==============================] - 17s 222ms/step - loss: 0.4814 - accuracy: 0.8282 - val_loss: 1.0206 - val_accuracy: 0.6567 - lr: 7.5000e-04\n",
            "Epoch 13/20\n",
            "77/77 [==============================] - ETA: 0s - loss: 0.4379 - accuracy: 0.8425\n",
            "Epoch 13: val_accuracy improved from 0.65672 to 0.67508, saving model to nn_results/galaxies_nn_2022-04-03T23:13.h5\n",
            "77/77 [==============================] - 17s 223ms/step - loss: 0.4379 - accuracy: 0.8425 - val_loss: 1.0781 - val_accuracy: 0.6751 - lr: 7.5000e-04\n",
            "Epoch 14/20\n",
            "77/77 [==============================] - ETA: 0s - loss: 0.3964 - accuracy: 0.8629\n",
            "Epoch 14: val_accuracy did not improve from 0.67508\n",
            "77/77 [==============================] - 17s 221ms/step - loss: 0.3964 - accuracy: 0.8629 - val_loss: 1.1714 - val_accuracy: 0.6388 - lr: 7.5000e-04\n",
            "Epoch 15/20\n",
            "77/77 [==============================] - ETA: 0s - loss: 0.3458 - accuracy: 0.8830\n",
            "Epoch 15: val_accuracy improved from 0.67508 to 0.68196, saving model to nn_results/galaxies_nn_2022-04-03T23:13.h5\n",
            "77/77 [==============================] - 17s 221ms/step - loss: 0.3458 - accuracy: 0.8830 - val_loss: 1.1835 - val_accuracy: 0.6820 - lr: 7.5000e-04\n",
            "Epoch 16/20\n",
            "77/77 [==============================] - ETA: 0s - loss: 0.3064 - accuracy: 0.8970\n",
            "Epoch 16: val_accuracy did not improve from 0.68196\n",
            "77/77 [==============================] - 17s 222ms/step - loss: 0.3064 - accuracy: 0.8970 - val_loss: 1.1875 - val_accuracy: 0.6728 - lr: 7.5000e-04\n",
            "Epoch 17/20\n",
            "77/77 [==============================] - ETA: 0s - loss: 0.2586 - accuracy: 0.9191\n",
            "Epoch 17: ReduceLROnPlateau reducing learning rate to 0.0005625000048894435.\n",
            "\n",
            "Epoch 17: val_accuracy did not improve from 0.68196\n",
            "77/77 [==============================] - 17s 222ms/step - loss: 0.2586 - accuracy: 0.9191 - val_loss: 1.2240 - val_accuracy: 0.6728 - lr: 7.5000e-04\n",
            "Epoch 18/20\n",
            "77/77 [==============================] - ETA: 0s - loss: 0.2070 - accuracy: 0.9386\n",
            "Epoch 18: val_accuracy did not improve from 0.68196\n",
            "77/77 [==============================] - 17s 221ms/step - loss: 0.2070 - accuracy: 0.9386 - val_loss: 1.3472 - val_accuracy: 0.6374 - lr: 5.6250e-04\n",
            "Epoch 18: early stopping\n"
          ]
        },
        {
          "output_type": "execute_result",
          "data": {
            "text/plain": [
              "<keras.callbacks.History at 0x7f86805c6090>"
            ]
          },
          "metadata": {},
          "execution_count": 11
        }
      ],
      "source": [
        "run_time_string = datetime.datetime.utcnow().isoformat(timespec='minutes')\n",
        "# define path to save model\n",
        "model_path = f'nn_results/galaxies_nn_{run_time_string}.h5'\n",
        "print(f\"Training ... {model_path}\")\n",
        "\n",
        "logdir = os.path.join(\"nn_results\", datetime.datetime.now().strftime(\"%Y%m%d-%H%M%S\"))\n",
        "tensorboard_callback = tf.keras.callbacks.TensorBoard(logdir, histogram_freq=1)\n",
        "\n",
        "reduce_lr = tf.keras.callbacks.ReduceLROnPlateau(monitor='val_accuracy', factor=0.75,\n",
        "                              patience=2, min_lr=1e-6, verbose=1, cooldown=0)\n",
        "\n",
        "csv_logger = tf.keras.callbacks.CSVLogger(f'nn_results/training_{run_time_string}.log')\n",
        "\n",
        "earlystop = tf.keras.callbacks.EarlyStopping(monitor='val_accuracy', min_delta=0.001, \n",
        "                                             patience=3, \\\n",
        "                                             verbose=1, mode='auto')\n",
        "\n",
        "model_check = tf.keras.callbacks.ModelCheckpoint(model_path,\n",
        "        monitor='val_accuracy', \n",
        "        save_best_only=True, \n",
        "        mode='max',\n",
        "        verbose=1)\n",
        "\n",
        "model.fit(x=training_set, \n",
        "          y=training_labels, \n",
        "          epochs=20,\n",
        "          batch_size=128,\n",
        "          validation_data=(validation_set, validation_labels), \n",
        "          callbacks=[tensorboard_callback, reduce_lr, csv_logger, earlystop, model_check])"
      ]
    },
    {
      "cell_type": "markdown",
      "id": "corrected-torture",
      "metadata": {
        "id": "corrected-torture"
      },
      "source": [
        "### Evaluation\n",
        "\n",
        "Use your trained model and apply it to the test set. How well did you do (total accuracy)? Plot a confusion matrix and comment where the network was most confused."
      ]
    },
    {
      "cell_type": "code",
      "source": [
        "!ls nn_results"
      ],
      "metadata": {
        "colab": {
          "base_uri": "https://localhost:8080/"
        },
        "id": "OVQTziPM3BZC",
        "outputId": "595ed462-0ad7-4017-e949-543ee55b3df3"
      },
      "id": "OVQTziPM3BZC",
      "execution_count": null,
      "outputs": [
        {
          "output_type": "stream",
          "name": "stdout",
          "text": [
            "20220403-231309\t\t\t\t  galaxies_nn_2022-04-03T23:13.h5\n",
            "20220403-231833\t\t\t\t  training_2022-04-03T23:13.log\n",
            "ay250_autoencoder_nn_2022-04-03T23:18.h5\n"
          ]
        }
      ]
    },
    {
      "cell_type": "code",
      "execution_count": null,
      "id": "linear-family",
      "metadata": {
        "colab": {
          "base_uri": "https://localhost:8080/",
          "height": 649
        },
        "id": "linear-family",
        "outputId": "9c8e4447-7372-4109-d08a-9ea8441f4a13"
      },
      "outputs": [
        {
          "output_type": "stream",
          "name": "stdout",
          "text": [
            "Overall accuracy was 0.6739773538712639\n",
            "tf.Tensor(\n",
            "[[ 716  294  345   11   30    0    2   64   51   20]\n",
            " [  86 2726  331    0    6    0    0    6    3    2]\n",
            " [ 160  528 2092    0   13    0    0   13    1    2]\n",
            " [   6    3   21   50   66    0   16    0    0    1]\n",
            " [  21    9   42   40  585    2   40    0    0    3]\n",
            " [   0    0    0    0    5    0    2    0    0    0]\n",
            " [   2    0    1   16   75    1  170    0    0    0]\n",
            " [ 149   56   45    2    2    0    0  178   57    7]\n",
            " [ 195   12   21    1    1    0    1   81   70   16]\n",
            " [ 120    9   34    6   16    2    5    9    9   20]], shape=(10, 10), dtype=int32)\n"
          ]
        },
        {
          "output_type": "stream",
          "name": "stderr",
          "text": [
            "/usr/local/lib/python3.7/dist-packages/ipykernel_launcher.py:21: RuntimeWarning: divide by zero encountered in log10\n"
          ]
        },
        {
          "output_type": "display_data",
          "data": {
            "text/plain": [
              "<Figure size 504x504 with 2 Axes>"
            ],
            "image/png": "[encoded data removed]"
          },
          "metadata": {
            "needs_background": "light"
          }
        }
      ],
      "source": [
        "import pandas as pd\n",
        "import matplotlib.pyplot as plt\n",
        "from tensorflow.math import confusion_matrix\n",
        "\n",
        "#load the model from disk\n",
        "latest_log_file = !ls -t1 nn_results/training* | head -1\n",
        "latest_model_file = !ls -t1 nn_results/galaxies_*.h5 | head -1\n",
        "hist_df = pd.read_csv(latest_log_file[0])\n",
        "model = load_model(latest_model_file[0])\n",
        "\n",
        "# predict\n",
        "predicted_labels = model.predict(test_set)\n",
        "#hist_df\n",
        "predicted_labels_1d = np.argmax(predicted_labels, axis = 1)\n",
        "test_labels_1d = np.argmax(test_labels, axis = 1)\n",
        "print(f'Overall accuracy was {np.sum(predicted_labels_1d == test_labels_1d)/predicted_labels_1d.size}')\n",
        "\n",
        "# plot - use log so can see better\n",
        "confusion = confusion_matrix(test_labels.argmax(axis=1), predicted_labels.argmax(axis=1))\n",
        "#print(confusion)\n",
        "logconfusion = np.log10(confusion)\n",
        "logconfusion[logconfusion<0] = 0\n",
        "\n",
        "fig, ax = plt.subplots(1,1,figsize = (7,7))\n",
        "im = ax.imshow(logconfusion, origin = 'lower', cmap = 'plasma')\n",
        "fig.colorbar(im)\n",
        "plt.show()"
      ]
    },
    {
      "cell_type": "markdown",
      "source": [
        "The overall accuracy for the test set was 67%, which was pretty close to the best epoch for the validation set (68%). The confusion matrix (note log space here) shows that the model is doing a decent job on labels 1,2,4,6,7 (more than half correct guesses); less well on 0,3,8 (correct guess is most likely option, but more likely than not to guess incorrectly), and horribly on 5,9 (correct guess isn't even the most likely option). This is roughly, although not entirely, in line with the number of examples of each galaxy type we have in the histogram above. It's unsurprising that label 5 looks so bad because we have few examples in the dataset, but it's a bit surprising that index 0 is harder to distinguish than 4 despite many more examples."
      ],
      "metadata": {
        "id": "VtSNqZbA7JPz"
      },
      "id": "VtSNqZbA7JPz"
    },
    {
      "cell_type": "markdown",
      "id": "eleven-naples",
      "metadata": {
        "id": "eleven-naples"
      },
      "source": [
        "### Improve - data augmentation\n",
        "\n",
        "Now that you have a baseline accuracy, you can work to try to improve the results. Without changing your network architecture, implement a data augmentation strategy, retrain, and then reevaluate. How much improvement did you see?"
      ]
    },
    {
      "cell_type": "markdown",
      "source": [
        "I think for galaxies, rotating and zooming are both totally valid. So I'm basically going to copy what was done for the fashion dataset.  I would not be confident rescaling brightness, especially for these tri-color images"
      ],
      "metadata": {
        "id": "nIgK8eqT-Wk8"
      },
      "id": "nIgK8eqT-Wk8"
    },
    {
      "cell_type": "code",
      "execution_count": null,
      "id": "academic-allergy",
      "metadata": {
        "colab": {
          "base_uri": "https://localhost:8080/"
        },
        "id": "academic-allergy",
        "outputId": "40bd72ed-79cf-4369-828f-78a8dc308d69"
      },
      "outputs": [
        {
          "output_type": "stream",
          "name": "stdout",
          "text": [
            "Training ... nn_results/galaxies_nn_2022-04-04T00:51.h5\n",
            "Epoch 1/20\n",
            "39/39 [==============================] - ETA: 0s - loss: 1.1091 - accuracy: 0.6101\n",
            "Epoch 1: val_accuracy improved from -inf to 0.53924, saving model to nn_results/galaxies_nn_2022-04-04T00:51.h5\n",
            "39/39 [==============================] - 22s 560ms/step - loss: 1.1091 - accuracy: 0.6101 - val_loss: 1.4359 - val_accuracy: 0.5392 - lr: 7.5000e-04\n",
            "Epoch 2/20\n",
            "39/39 [==============================] - ETA: 0s - loss: 0.9568 - accuracy: 0.6418\n",
            "Epoch 2: val_accuracy improved from 0.53924 to 0.58100, saving model to nn_results/galaxies_nn_2022-04-04T00:51.h5\n",
            "39/39 [==============================] - 22s 553ms/step - loss: 0.9568 - accuracy: 0.6418 - val_loss: 1.1690 - val_accuracy: 0.5810 - lr: 7.5000e-04\n",
            "Epoch 3/20\n",
            "39/39 [==============================] - ETA: 0s - loss: 0.9172 - accuracy: 0.6552\n",
            "Epoch 3: val_accuracy improved from 0.58100 to 0.65122, saving model to nn_results/galaxies_nn_2022-04-04T00:51.h5\n",
            "39/39 [==============================] - 22s 552ms/step - loss: 0.9172 - accuracy: 0.6552 - val_loss: 0.9489 - val_accuracy: 0.6512 - lr: 7.5000e-04\n",
            "Epoch 4/20\n",
            "39/39 [==============================] - ETA: 0s - loss: 0.9001 - accuracy: 0.6663\n",
            "Epoch 4: val_accuracy improved from 0.65122 to 0.65718, saving model to nn_results/galaxies_nn_2022-04-04T00:51.h5\n",
            "39/39 [==============================] - 21s 521ms/step - loss: 0.9001 - accuracy: 0.6663 - val_loss: 0.9399 - val_accuracy: 0.6572 - lr: 7.5000e-04\n",
            "Epoch 5/20\n",
            "39/39 [==============================] - ETA: 0s - loss: 0.8677 - accuracy: 0.6704\n",
            "Epoch 5: val_accuracy improved from 0.65718 to 0.65902, saving model to nn_results/galaxies_nn_2022-04-04T00:51.h5\n",
            "39/39 [==============================] - 22s 553ms/step - loss: 0.8677 - accuracy: 0.6704 - val_loss: 0.9078 - val_accuracy: 0.6590 - lr: 7.5000e-04\n",
            "Epoch 6/20\n",
            "39/39 [==============================] - ETA: 0s - loss: 0.8694 - accuracy: 0.6747\n",
            "Epoch 6: val_accuracy improved from 0.65902 to 0.67141, saving model to nn_results/galaxies_nn_2022-04-04T00:51.h5\n",
            "39/39 [==============================] - 22s 553ms/step - loss: 0.8694 - accuracy: 0.6747 - val_loss: 0.8647 - val_accuracy: 0.6714 - lr: 7.5000e-04\n",
            "Epoch 7/20\n",
            "39/39 [==============================] - ETA: 0s - loss: 0.8551 - accuracy: 0.6753\n",
            "Epoch 7: val_accuracy improved from 0.67141 to 0.68059, saving model to nn_results/galaxies_nn_2022-04-04T00:51.h5\n",
            "39/39 [==============================] - 21s 523ms/step - loss: 0.8551 - accuracy: 0.6753 - val_loss: 0.8832 - val_accuracy: 0.6806 - lr: 7.5000e-04\n",
            "Epoch 8/20\n",
            "39/39 [==============================] - ETA: 0s - loss: 0.8533 - accuracy: 0.6748\n",
            "Epoch 8: val_accuracy improved from 0.68059 to 0.70445, saving model to nn_results/galaxies_nn_2022-04-04T00:51.h5\n",
            "39/39 [==============================] - 20s 518ms/step - loss: 0.8533 - accuracy: 0.6748 - val_loss: 0.8204 - val_accuracy: 0.7045 - lr: 7.5000e-04\n",
            "Epoch 9/20\n",
            "39/39 [==============================] - ETA: 0s - loss: 0.8382 - accuracy: 0.6805\n",
            "Epoch 9: val_accuracy improved from 0.70445 to 0.70675, saving model to nn_results/galaxies_nn_2022-04-04T00:51.h5\n",
            "39/39 [==============================] - 22s 553ms/step - loss: 0.8382 - accuracy: 0.6805 - val_loss: 0.8106 - val_accuracy: 0.7067 - lr: 7.5000e-04\n",
            "Epoch 10/20\n",
            "39/39 [==============================] - ETA: 0s - loss: 0.8291 - accuracy: 0.6844\n",
            "Epoch 10: val_accuracy did not improve from 0.70675\n",
            "39/39 [==============================] - 22s 553ms/step - loss: 0.8291 - accuracy: 0.6844 - val_loss: 0.8017 - val_accuracy: 0.7026 - lr: 7.5000e-04\n",
            "Epoch 11/20\n",
            "39/39 [==============================] - ETA: 0s - loss: 0.8239 - accuracy: 0.6844\n",
            "Epoch 11: ReduceLROnPlateau reducing learning rate to 0.0005625000048894435.\n",
            "\n",
            "Epoch 11: val_accuracy did not improve from 0.70675\n",
            "39/39 [==============================] - 20s 519ms/step - loss: 0.8239 - accuracy: 0.6844 - val_loss: 0.8230 - val_accuracy: 0.6971 - lr: 7.5000e-04\n",
            "Epoch 12/20\n",
            "39/39 [==============================] - ETA: 0s - loss: 0.8123 - accuracy: 0.6968\n",
            "Epoch 12: val_accuracy improved from 0.70675 to 0.71684, saving model to nn_results/galaxies_nn_2022-04-04T00:51.h5\n",
            "39/39 [==============================] - 21s 522ms/step - loss: 0.8123 - accuracy: 0.6968 - val_loss: 0.7997 - val_accuracy: 0.7168 - lr: 5.6250e-04\n",
            "Epoch 13/20\n",
            "39/39 [==============================] - ETA: 0s - loss: 0.8030 - accuracy: 0.7002\n",
            "Epoch 13: val_accuracy did not improve from 0.71684\n",
            "39/39 [==============================] - 20s 514ms/step - loss: 0.8030 - accuracy: 0.7002 - val_loss: 0.8059 - val_accuracy: 0.7026 - lr: 5.6250e-04\n",
            "Epoch 14/20\n",
            "39/39 [==============================] - ETA: 0s - loss: 0.8012 - accuracy: 0.6969\n",
            "Epoch 14: val_accuracy improved from 0.71684 to 0.71730, saving model to nn_results/galaxies_nn_2022-04-04T00:51.h5\n",
            "39/39 [==============================] - 21s 520ms/step - loss: 0.8012 - accuracy: 0.6969 - val_loss: 0.7782 - val_accuracy: 0.7173 - lr: 5.6250e-04\n",
            "Epoch 15/20\n",
            "39/39 [==============================] - ETA: 0s - loss: 0.7866 - accuracy: 0.7085\n",
            "Epoch 15: val_accuracy did not improve from 0.71730\n",
            "39/39 [==============================] - 22s 549ms/step - loss: 0.7866 - accuracy: 0.7085 - val_loss: 0.8205 - val_accuracy: 0.7026 - lr: 5.6250e-04\n",
            "Epoch 15: early stopping\n"
          ]
        },
        {
          "output_type": "execute_result",
          "data": {
            "text/plain": [
              "<keras.callbacks.History at 0x7f8593477d50>"
            ]
          },
          "metadata": {},
          "execution_count": 40
        }
      ],
      "source": [
        "from tensorflow.keras.preprocessing.image import ImageDataGenerator\n",
        "\n",
        "# creating the data aumentation genreators for both the training images and the training label masks\n",
        "data_gen_args = dict(featurewise_center=False,\n",
        "                     featurewise_std_normalization=False,\n",
        "                     rotation_range=360.,\n",
        "                     rescale=None,\n",
        "                     shear_range=0.1,\n",
        "                     zoom_range=0.2,\n",
        "                     horizontal_flip=True,\n",
        "                     fill_mode = 'nearest')\n",
        "\n",
        "image_datagen = ImageDataGenerator(**data_gen_args)\n",
        "\n",
        "seed = 42\n",
        "batch_size = 256\n",
        "\n",
        "# convert class vectors to binary class matrices\n",
        "Y_train =  to_categorical(y_train, nb_classes)\n",
        "Y_test =  to_categorical(y_test, nb_classes)\n",
        "\n",
        "image_generator = image_datagen.flow(\n",
        "    training_set,  training_labels,\n",
        "    shuffle = True,\n",
        "    batch_size=batch_size,\n",
        "    seed=seed)\n",
        "\n",
        "run_time_string = datetime.datetime.utcnow().isoformat(timespec='minutes')\n",
        "# define path to save model\n",
        "model_path = f'nn_results/galaxies_nn_{run_time_string}.h5'\n",
        "print(f\"Training ... {model_path}\")\n",
        "\n",
        "logdir = os.path.join(\"nn_results\", datetime.datetime.now().strftime(\"%Y%m%d-%H%M%S\"))\n",
        "tensorboard_callback = tf.keras.callbacks.TensorBoard(logdir, histogram_freq=1)\n",
        "csv_logger = tf.keras.callbacks.CSVLogger(f'nn_results/training_{run_time_string}.log')\n",
        "\n",
        "model_check = tf.keras.callbacks.ModelCheckpoint(model_path,\n",
        "        monitor='val_accuracy', \n",
        "        save_best_only=True, \n",
        "        mode='max',\n",
        "        verbose=1)\n",
        "\n",
        "model.fit(image_generator,\n",
        "          epochs=20,\n",
        "          validation_data=(validation_set, validation_labels), \n",
        "          callbacks=[tensorboard_callback, reduce_lr, csv_logger, earlystop, model_check])"
      ]
    },
    {
      "cell_type": "code",
      "source": [
        "!ls nn_results"
      ],
      "metadata": {
        "colab": {
          "base_uri": "https://localhost:8080/"
        },
        "id": "1LKH52gACq2i",
        "outputId": "5052463c-5918-4e43-b4b1-e5cc2bd3ab1f"
      },
      "id": "1LKH52gACq2i",
      "execution_count": null,
      "outputs": [
        {
          "output_type": "stream",
          "name": "stdout",
          "text": [
            "20220403-231309\t\t\t\t  galaxies_nn_2022-04-03T23:13.h5\n",
            "20220403-231833\t\t\t\t  training_2022-04-03T23:13.log\n",
            "ay250_autoencoder_nn_2022-04-03T23:18.h5\n"
          ]
        }
      ]
    },
    {
      "cell_type": "code",
      "source": [
        "# predict\n",
        "predicted_labels = model.predict(test_set)\n",
        "#hist_df\n",
        "predicted_labels_1d = np.argmax(predicted_labels, axis = 1)\n",
        "test_labels_1d = np.argmax(test_labels, axis = 1)\n",
        "print(f'Overall accuracy was {np.sum(predicted_labels_1d == test_labels_1d)/predicted_labels_1d.size}')\n",
        "\n",
        "# plot - use log so can see better\n",
        "confusion = confusion_matrix(test_labels.argmax(axis=1), predicted_labels.argmax(axis=1))\n",
        "#print(confusion)\n",
        "logconfusion = np.log10(confusion)\n",
        "logconfusion[logconfusion<0] = 0\n",
        "\n",
        "fig, ax = plt.subplots(1,1,figsize = (7,7))\n",
        "im = ax.imshow(logconfusion, origin = 'lower', cmap = 'plasma')\n",
        "fig.colorbar(im)\n",
        "plt.show()"
      ],
      "metadata": {
        "colab": {
          "base_uri": "https://localhost:8080/",
          "height": 470
        },
        "id": "qjquJapLCeeh",
        "outputId": "69a713e8-3600-471d-aa83-3242c6d81d69"
      },
      "id": "qjquJapLCeeh",
      "execution_count": null,
      "outputs": [
        {
          "output_type": "stream",
          "name": "stdout",
          "text": [
            "Overall accuracy was 0.7027440579414465\n"
          ]
        },
        {
          "output_type": "stream",
          "name": "stderr",
          "text": [
            "/usr/local/lib/python3.7/dist-packages/ipykernel_launcher.py:11: RuntimeWarning: divide by zero encountered in log10\n",
            "  # This is added back by InteractiveShellApp.init_path()\n"
          ]
        },
        {
          "output_type": "display_data",
          "data": {
            "text/plain": [
              "<Figure size 504x504 with 2 Axes>"
            ],
            "image/png": "[encoded data removed]"
          },
          "metadata": {
            "needs_background": "light"
          }
        }
      ]
    },
    {
      "cell_type": "markdown",
      "source": [
        "The overall accuracy was 70% this time, a 3% improvement.  Not great, not completely useless"
      ],
      "metadata": {
        "id": "XP_1u8TSH8aZ"
      },
      "id": "XP_1u8TSH8aZ"
    },
    {
      "cell_type": "markdown",
      "id": "configured-lesbian",
      "metadata": {
        "id": "configured-lesbian"
      },
      "source": [
        "### Improve - network\n",
        "\n",
        "Change/embellish your original network to try to improve the results (try adding layers, changing the initialization of the kernel weights, changing the activation, adding dropout). You can use an automl trainer if you'd like or try different approaches by hand. Retrain and then reevaluate. Explain what you did but only show us the best model and its evaluation."
      ]
    },
    {
      "cell_type": "markdown",
      "source": [
        "I'm going to try using a package I found online by Googling \"keras automl trainer\", which is called autokeras. It looks like I can simply give it a maximum number of parameters in model and let it figure out the rest. I'll have to look into diagnostics of what it actually did, i.e. what type of network it thinks is best.  See here: https://autokeras.com/tutorial/image_classification/"
      ],
      "metadata": {
        "id": "dOdhyKweqOeU"
      },
      "id": "dOdhyKweqOeU"
    },
    {
      "cell_type": "code",
      "execution_count": null,
      "id": "center-tonight",
      "metadata": {
        "id": "center-tonight"
      },
      "outputs": [],
      "source": [
        ""
      ]
    },
    {
      "cell_type": "code",
      "source": [
        "import autokeras as ak\n",
        "from sklearn.metrics import classification_report\n",
        "\n",
        "run_time_string = datetime.datetime.utcnow().isoformat(timespec='minutes')\n",
        "# define path to save model\n",
        "model_path = f'nn_results/galaxies_nn_{run_time_string}.h5'\n",
        "print(f\"Training ... {model_path}\")\n",
        "\n",
        "logdir = os.path.join(\"nn_results\", datetime.datetime.now().strftime(\"%Y%m%d-%H%M%S\"))\n",
        "tensorboard_callback = tf.keras.callbacks.TensorBoard(logdir, histogram_freq=1)\n",
        "csv_logger = tf.keras.callbacks.CSVLogger(f'nn_results/training_{run_time_string}.log')\n",
        "reduce_lr = tf.keras.callbacks.ReduceLROnPlateau(monitor='val_accuracy', factor=0.75,\n",
        "                              patience=2, min_lr=1e-6, verbose=1, cooldown=0)\n",
        "earlystop = tf.keras.callbacks.EarlyStopping(monitor='val_accuracy', min_delta=0.001, \n",
        "                                             patience=3, \\\n",
        "                                             verbose=1, mode='auto')\n",
        "model_check = tf.keras.callbacks.ModelCheckpoint(model_path,\n",
        "        monitor='val_accuracy', \n",
        "        save_best_only=True, \n",
        "        mode='max',\n",
        "        verbose=1)\n",
        "\n",
        "model = ak.ImageClassifier(overwrite=True, max_trials=10, seed = 44, max_model_size = 5e5)\n",
        "model.fit(training_set, training_labels, \n",
        "          validation_data=(validation_set,validation_labels), \n",
        "          epochs = 20,\n",
        "          callbacks=[tensorboard_callback, reduce_lr, csv_logger, earlystop, model_check])\n",
        "#model.final_fit(training_set, training_labels, test_set, test_labels, retrain=True)\n",
        "\n",
        "\n",
        "score = model.evaluate(test_set, test_labels)\n",
        "predictions = model.predict(test_set)\n",
        "report = classification_report(test_labels, predictions)\n",
        "print(report)\n",
        "print(score)\n"
      ],
      "metadata": {
        "id": "Xl7XpFwsqUD8",
        "outputId": "595ff2d6-412a-4fd3-8ad3-e5b517b81372",
        "colab": {
          "base_uri": "https://localhost:8080/",
          "height": 514
        }
      },
      "id": "Xl7XpFwsqUD8",
      "execution_count": null,
      "outputs": [
        {
          "output_type": "stream",
          "name": "stdout",
          "text": [
            "Training ... nn_results/galaxies_nn_2022-04-04T19:51.h5\n",
            "Oversized model: 23718922 parameters -- skipping\n",
            "Oversized model: 23718922 parameters -- skipping\n",
            "Oversized model: 23718922 parameters -- skipping\n",
            "Oversized model: 23718922 parameters -- skipping\n",
            "Oversized model: 23718922 parameters -- skipping\n",
            "Oversized model: 23718922 parameters -- skipping\n"
          ]
        },
        {
          "output_type": "error",
          "ename": "RuntimeError",
          "evalue": "ignored",
          "traceback": [
            "\u001b[0;31m---------------------------------------------------------------------------\u001b[0m",
            "\u001b[0;31mRuntimeError\u001b[0m                              Traceback (most recent call last)",
            "\u001b[0;32m<ipython-input-19-fd6dd30a6637>\u001b[0m in \u001b[0;36m<module>\u001b[0;34m()\u001b[0m\n\u001b[1;32m     25\u001b[0m           \u001b[0mvalidation_data\u001b[0m\u001b[0;34m=\u001b[0m\u001b[0;34m(\u001b[0m\u001b[0mvalidation_set\u001b[0m\u001b[0;34m,\u001b[0m\u001b[0mvalidation_labels\u001b[0m\u001b[0;34m)\u001b[0m\u001b[0;34m,\u001b[0m\u001b[0;34m\u001b[0m\u001b[0;34m\u001b[0m\u001b[0m\n\u001b[1;32m     26\u001b[0m           \u001b[0mepochs\u001b[0m \u001b[0;34m=\u001b[0m \u001b[0;36m20\u001b[0m\u001b[0;34m,\u001b[0m\u001b[0;34m\u001b[0m\u001b[0;34m\u001b[0m\u001b[0m\n\u001b[0;32m---> 27\u001b[0;31m           callbacks=[tensorboard_callback, reduce_lr, csv_logger, earlystop, model_check])\n\u001b[0m\u001b[1;32m     28\u001b[0m \u001b[0;31m#model.final_fit(training_set, training_labels, test_set, test_labels, retrain=True)\u001b[0m\u001b[0;34m\u001b[0m\u001b[0;34m\u001b[0m\u001b[0;34m\u001b[0m\u001b[0m\n\u001b[1;32m     29\u001b[0m \u001b[0;34m\u001b[0m\u001b[0m\n",
            "\u001b[0;32m/usr/local/lib/python3.7/dist-packages/autokeras/tasks/image.py\u001b[0m in \u001b[0;36mfit\u001b[0;34m(self, x, y, epochs, callbacks, validation_split, validation_data, **kwargs)\u001b[0m\n\u001b[1;32m    169\u001b[0m             \u001b[0mvalidation_split\u001b[0m\u001b[0;34m=\u001b[0m\u001b[0mvalidation_split\u001b[0m\u001b[0;34m,\u001b[0m\u001b[0;34m\u001b[0m\u001b[0;34m\u001b[0m\u001b[0m\n\u001b[1;32m    170\u001b[0m             \u001b[0mvalidation_data\u001b[0m\u001b[0;34m=\u001b[0m\u001b[0mvalidation_data\u001b[0m\u001b[0;34m,\u001b[0m\u001b[0;34m\u001b[0m\u001b[0;34m\u001b[0m\u001b[0m\n\u001b[0;32m--> 171\u001b[0;31m             \u001b[0;34m**\u001b[0m\u001b[0mkwargs\u001b[0m\u001b[0;34m\u001b[0m\u001b[0;34m\u001b[0m\u001b[0m\n\u001b[0m\u001b[1;32m    172\u001b[0m         )\n\u001b[1;32m    173\u001b[0m         \u001b[0;32mreturn\u001b[0m \u001b[0mhistory\u001b[0m\u001b[0;34m\u001b[0m\u001b[0;34m\u001b[0m\u001b[0m\n",
            "\u001b[0;32m/usr/local/lib/python3.7/dist-packages/autokeras/auto_model.py\u001b[0m in \u001b[0;36mfit\u001b[0;34m(self, x, y, batch_size, epochs, callbacks, validation_split, validation_data, verbose, **kwargs)\u001b[0m\n\u001b[1;32m    296\u001b[0m             \u001b[0mvalidation_split\u001b[0m\u001b[0;34m=\u001b[0m\u001b[0mvalidation_split\u001b[0m\u001b[0;34m,\u001b[0m\u001b[0;34m\u001b[0m\u001b[0;34m\u001b[0m\u001b[0m\n\u001b[1;32m    297\u001b[0m             \u001b[0mverbose\u001b[0m\u001b[0;34m=\u001b[0m\u001b[0mverbose\u001b[0m\u001b[0;34m,\u001b[0m\u001b[0;34m\u001b[0m\u001b[0;34m\u001b[0m\u001b[0m\n\u001b[0;32m--> 298\u001b[0;31m             \u001b[0;34m**\u001b[0m\u001b[0mkwargs\u001b[0m\u001b[0;34m\u001b[0m\u001b[0;34m\u001b[0m\u001b[0m\n\u001b[0m\u001b[1;32m    299\u001b[0m         )\n\u001b[1;32m    300\u001b[0m \u001b[0;34m\u001b[0m\u001b[0m\n",
            "\u001b[0;32m/usr/local/lib/python3.7/dist-packages/autokeras/engine/tuner.py\u001b[0m in \u001b[0;36msearch\u001b[0;34m(self, epochs, callbacks, validation_split, verbose, **fit_kwargs)\u001b[0m\n\u001b[1;32m    189\u001b[0m         \u001b[0mhp\u001b[0m \u001b[0;34m=\u001b[0m \u001b[0mself\u001b[0m\u001b[0;34m.\u001b[0m\u001b[0moracle\u001b[0m\u001b[0;34m.\u001b[0m\u001b[0mget_space\u001b[0m\u001b[0;34m(\u001b[0m\u001b[0;34m)\u001b[0m\u001b[0;34m\u001b[0m\u001b[0;34m\u001b[0m\u001b[0m\n\u001b[1;32m    190\u001b[0m         \u001b[0mself\u001b[0m\u001b[0;34m.\u001b[0m\u001b[0m_prepare_model_build\u001b[0m\u001b[0;34m(\u001b[0m\u001b[0mhp\u001b[0m\u001b[0;34m,\u001b[0m \u001b[0;34m**\u001b[0m\u001b[0mfit_kwargs\u001b[0m\u001b[0;34m)\u001b[0m\u001b[0;34m\u001b[0m\u001b[0;34m\u001b[0m\u001b[0m\n\u001b[0;32m--> 191\u001b[0;31m         \u001b[0mself\u001b[0m\u001b[0;34m.\u001b[0m\u001b[0m_try_build\u001b[0m\u001b[0;34m(\u001b[0m\u001b[0mhp\u001b[0m\u001b[0;34m)\u001b[0m\u001b[0;34m\u001b[0m\u001b[0;34m\u001b[0m\u001b[0m\n\u001b[0m\u001b[1;32m    192\u001b[0m         \u001b[0mself\u001b[0m\u001b[0;34m.\u001b[0m\u001b[0moracle\u001b[0m\u001b[0;34m.\u001b[0m\u001b[0mupdate_space\u001b[0m\u001b[0;34m(\u001b[0m\u001b[0mhp\u001b[0m\u001b[0;34m)\u001b[0m\u001b[0;34m\u001b[0m\u001b[0;34m\u001b[0m\u001b[0m\n\u001b[1;32m    193\u001b[0m         super().search(\n",
            "\u001b[0;32m/usr/local/lib/python3.7/dist-packages/keras_tuner/engine/tuner.py\u001b[0m in \u001b[0;36m_try_build\u001b[0;34m(self, hp)\u001b[0m\n\u001b[1;32m    179\u001b[0m                 \u001b[0mprint\u001b[0m\u001b[0;34m(\u001b[0m\u001b[0;34m\"Oversized model: {} parameters -- skipping\"\u001b[0m\u001b[0;34m.\u001b[0m\u001b[0mformat\u001b[0m\u001b[0;34m(\u001b[0m\u001b[0msize\u001b[0m\u001b[0;34m)\u001b[0m\u001b[0;34m)\u001b[0m\u001b[0;34m\u001b[0m\u001b[0;34m\u001b[0m\u001b[0m\n\u001b[1;32m    180\u001b[0m                 \u001b[0;32mif\u001b[0m \u001b[0mi\u001b[0m \u001b[0;34m==\u001b[0m \u001b[0mMAX_FAIL_STREAK\u001b[0m\u001b[0;34m:\u001b[0m\u001b[0;34m\u001b[0m\u001b[0;34m\u001b[0m\u001b[0m\n\u001b[0;32m--> 181\u001b[0;31m                     \u001b[0;32mraise\u001b[0m \u001b[0mRuntimeError\u001b[0m\u001b[0;34m(\u001b[0m\u001b[0;34m\"Too many consecutive oversized models.\"\u001b[0m\u001b[0;34m)\u001b[0m\u001b[0;34m\u001b[0m\u001b[0;34m\u001b[0m\u001b[0m\n\u001b[0m\u001b[1;32m    182\u001b[0m                 \u001b[0;32mcontinue\u001b[0m\u001b[0;34m\u001b[0m\u001b[0;34m\u001b[0m\u001b[0m\n\u001b[1;32m    183\u001b[0m             \u001b[0;32mbreak\u001b[0m\u001b[0;34m\u001b[0m\u001b[0;34m\u001b[0m\u001b[0m\n",
            "\u001b[0;31mRuntimeError\u001b[0m: Too many consecutive oversized models."
          ]
        }
      ]
    },
    {
      "cell_type": "markdown",
      "source": [
        "This was interesting to try. I limited each trial to "
      ],
      "metadata": {
        "id": "deT7TUDjz8_j"
      },
      "id": "deT7TUDjz8_j"
    },
    {
      "cell_type": "markdown",
      "id": "surface-roman",
      "metadata": {
        "id": "surface-roman"
      },
      "source": [
        "## Autoencoders\n",
        "\n",
        "A form of non-parametric representation learning with neutral nets, where the architecture of the network is used to reduce the dimensionality of the data. First, go through (and execute) the following codeblocks and make sure you understand what they are doing to build and use an autoencoder.\n",
        "\n",
        "As the name suggests, autoencoders uses the data itself to learn the best way to represent it in a compact way--it's a form of semantic compression. This is a family of self- (or un-) supervised modeling.\n",
        "\n",
        "<img src=\"https://lilianweng.github.io/lil-log/assets/images/autoencoder-architecture.png\">\n",
        "Source: https://lilianweng.github.io/lil-log/2018/08/12/from-autoencoder-to-beta-vae.html\n",
        "\n",
        "In practice, we take an input X (which may be a 1-d vector, 2-d image, ...) and try to squeeze it down to a smaller number of values in the \"bottleneck\" layer and then uncompress back to it's original shape and form. The loss function that we construct will be the way in which the network learns on each backprop through the data.\n",
        "\n",
        "Let's look at a autoencoder which uses convnets to restruct the fashion dataset."
      ]
    },
    {
      "cell_type": "code",
      "execution_count": null,
      "id": "cutting-finger",
      "metadata": {
        "colab": {
          "base_uri": "https://localhost:8080/"
        },
        "id": "cutting-finger",
        "outputId": "2d762652-fc3d-443b-ff81-f5b41b0f0cc3"
      },
      "outputs": [
        {
          "output_type": "stream",
          "name": "stdout",
          "text": [
            "2.8.0\n",
            "Downloading data from https://storage.googleapis.com/tensorflow/tf-keras-datasets/train-labels-idx1-ubyte.gz\n",
            "32768/29515 [=================================] - 0s 0us/step\n",
            "40960/29515 [=========================================] - 0s 0us/step\n",
            "Downloading data from https://storage.googleapis.com/tensorflow/tf-keras-datasets/train-images-idx3-ubyte.gz\n",
            "26427392/26421880 [==============================] - 0s 0us/step\n",
            "26435584/26421880 [==============================] - 0s 0us/step\n",
            "Downloading data from https://storage.googleapis.com/tensorflow/tf-keras-datasets/t10k-labels-idx1-ubyte.gz\n",
            "16384/5148 [===============================================================================================] - 0s 0us/step\n",
            "Downloading data from https://storage.googleapis.com/tensorflow/tf-keras-datasets/t10k-images-idx3-ubyte.gz\n",
            "4423680/4422102 [==============================] - 0s 0us/step\n",
            "4431872/4422102 [==============================] - 0s 0us/step\n"
          ]
        }
      ],
      "source": [
        "import datetime, os\n",
        "import numpy as np\n",
        "import matplotlib.pyplot as plt\n",
        "%matplotlib inline\n",
        "\n",
        "import tensorflow \n",
        "import tensorflow.keras\n",
        "from tensorflow.keras.datasets import mnist\n",
        "from tensorflow.keras.models import Sequential, Model\n",
        "from tensorflow.keras.layers import Dense, Dropout, Flatten, Input\n",
        "from tensorflow.keras.layers import Conv2D, MaxPooling2D, Reshape, \\\n",
        "                                    Activation, BatchNormalization, UpSampling2D\n",
        "from tensorflow.keras import backend as K\n",
        "import tensorflow as tf\n",
        "\n",
        "# Print keras version\n",
        "print(tensorflow.keras.__version__)\n",
        "\n",
        "from tensorflow.keras.utils import to_categorical\n",
        "\n",
        "fashion_mnist = tf.keras.datasets.fashion_mnist\n",
        "\n",
        "nb_classes = 10\n",
        "batch_size = 128\n",
        "bottleneck_size = 64\n",
        "\n",
        "(x_train, y_train),(x_test, y_test) = fashion_mnist.load_data()\n",
        "x_train, x_test = x_train / 255.0, x_test / 255.0  # scale the images to 0-1\n",
        "\n",
        "x_train = np.reshape(x_train, (len(x_train), 28, 28, 1))  # adapt this if using `channels_first` image data format\n",
        "x_test = np.reshape(x_test, (len(x_test), 28, 28, 1))  # adapt this if using `channels_first` image data format\n",
        "\n",
        "# convert class vectors to binary class matrices\n",
        "Y_train =  to_categorical(y_train, nb_classes)\n",
        "Y_test =  to_categorical(y_test, nb_classes)\n",
        "\n",
        "input_shape = x_train[0].shape  + (1,)\n",
        "input_shape\n",
        "input_img = Input(shape = (28, 28, 1))"
      ]
    },
    {
      "cell_type": "markdown",
      "id": "virgin-taylor",
      "metadata": {
        "id": "virgin-taylor"
      },
      "source": [
        "Make a simple autoencoder"
      ]
    },
    {
      "cell_type": "code",
      "execution_count": null,
      "id": "silver-point",
      "metadata": {
        "colab": {
          "base_uri": "https://localhost:8080/"
        },
        "id": "silver-point",
        "outputId": "9f4014a3-2663-4cfc-cf6f-1db1dac8a73c"
      },
      "outputs": [
        {
          "output_type": "stream",
          "name": "stdout",
          "text": [
            "Training ... nn_results/ay250_autoencoder_nn_2022-04-03T23:18.h5\n",
            "Epoch 1/10\n",
            "469/469 [==============================] - ETA: 0s - loss: 0.0348\n",
            "Epoch 1: val_loss improved from inf to 0.02617, saving model to nn_results/ay250_autoencoder_nn_2022-04-03T23:18.h5\n",
            "469/469 [==============================] - 9s 16ms/step - loss: 0.0348 - val_loss: 0.0262\n",
            "Epoch 2/10\n",
            "468/469 [============================>.] - ETA: 0s - loss: 0.0212\n",
            "Epoch 2: val_loss improved from 0.02617 to 0.01945, saving model to nn_results/ay250_autoencoder_nn_2022-04-03T23:18.h5\n",
            "469/469 [==============================] - 7s 15ms/step - loss: 0.0212 - val_loss: 0.0195\n",
            "Epoch 3/10\n",
            "468/469 [============================>.] - ETA: 0s - loss: 0.0189\n",
            "Epoch 3: val_loss improved from 0.01945 to 0.01785, saving model to nn_results/ay250_autoencoder_nn_2022-04-03T23:18.h5\n",
            "469/469 [==============================] - 7s 15ms/step - loss: 0.0189 - val_loss: 0.0179\n",
            "Epoch 4/10\n",
            "469/469 [==============================] - ETA: 0s - loss: 0.0177\n",
            "Epoch 4: val_loss improved from 0.01785 to 0.01684, saving model to nn_results/ay250_autoencoder_nn_2022-04-03T23:18.h5\n",
            "469/469 [==============================] - 7s 15ms/step - loss: 0.0177 - val_loss: 0.0168\n",
            "Epoch 5/10\n",
            "469/469 [==============================] - ETA: 0s - loss: 0.0168\n",
            "Epoch 5: val_loss improved from 0.01684 to 0.01609, saving model to nn_results/ay250_autoencoder_nn_2022-04-03T23:18.h5\n",
            "469/469 [==============================] - 7s 15ms/step - loss: 0.0168 - val_loss: 0.0161\n",
            "Epoch 6/10\n",
            "468/469 [============================>.] - ETA: 0s - loss: 0.0162\n",
            "Epoch 6: val_loss improved from 0.01609 to 0.01551, saving model to nn_results/ay250_autoencoder_nn_2022-04-03T23:18.h5\n",
            "469/469 [==============================] - 7s 15ms/step - loss: 0.0162 - val_loss: 0.0155\n",
            "Epoch 7/10\n",
            "467/469 [============================>.] - ETA: 0s - loss: 0.0157\n",
            "Epoch 7: val_loss improved from 0.01551 to 0.01508, saving model to nn_results/ay250_autoencoder_nn_2022-04-03T23:18.h5\n",
            "469/469 [==============================] - 7s 15ms/step - loss: 0.0157 - val_loss: 0.0151\n",
            "Epoch 8/10\n",
            "469/469 [==============================] - ETA: 0s - loss: 0.0153\n",
            "Epoch 8: val_loss improved from 0.01508 to 0.01474, saving model to nn_results/ay250_autoencoder_nn_2022-04-03T23:18.h5\n",
            "469/469 [==============================] - 7s 15ms/step - loss: 0.0153 - val_loss: 0.0147\n",
            "Epoch 9/10\n",
            "468/469 [============================>.] - ETA: 0s - loss: 0.0149\n",
            "Epoch 9: val_loss improved from 0.01474 to 0.01443, saving model to nn_results/ay250_autoencoder_nn_2022-04-03T23:18.h5\n",
            "469/469 [==============================] - 7s 15ms/step - loss: 0.0149 - val_loss: 0.0144\n",
            "Epoch 10/10\n",
            "469/469 [==============================] - ETA: 0s - loss: 0.0146\n",
            "Epoch 10: val_loss improved from 0.01443 to 0.01415, saving model to nn_results/ay250_autoencoder_nn_2022-04-03T23:18.h5\n",
            "469/469 [==============================] - 7s 15ms/step - loss: 0.0146 - val_loss: 0.0142\n"
          ]
        }
      ],
      "source": [
        "x = Conv2D(16, (3, 3), activation='relu', padding='same')(input_img)\n",
        "x = BatchNormalization()(x)\n",
        "x = MaxPooling2D((2, 2), padding='same')(x)\n",
        "x = Conv2D(8, (3, 3), activation='relu', padding='same')(x)\n",
        "x = MaxPooling2D((2, 2), padding='same')(x)\n",
        "x = Conv2D(8, (3, 3), activation='relu', padding='same')(x)\n",
        "x = MaxPooling2D((2, 2), padding='same')(x)\n",
        "# at this point the representation is (4, 4, 8) i.e. 128-dimensional\n",
        "\n",
        "x = Flatten()(x)\n",
        "bottleneck = Dense(bottleneck_size, name=\"bottleneck\")(x)\n",
        "\n",
        "x = Dense(128)(bottleneck)\n",
        "x = Reshape((4, 4, 8))(x)\n",
        "x = Conv2D(8, (3, 3), activation='relu', padding='same')(x)\n",
        "x = UpSampling2D((2, 2))(x)\n",
        "x = Conv2D(8, (3, 3), activation='relu', padding='same')(x)\n",
        "x = UpSampling2D((2, 2))(x)\n",
        "x = Conv2D(16, (3, 3), activation='relu')(x)\n",
        "x = UpSampling2D((2, 2))(x)\n",
        "decoded = Conv2D(1, (3, 3), activation='sigmoid', padding='same')(x)\n",
        "\n",
        "# add with tf.device('/gpu:0'): if on GPU\n",
        "autoencoder = Model(input_img, decoded)\n",
        "\n",
        "\n",
        "logdir = os.path.join(\n",
        "    \"nn_results\", datetime.datetime.now().strftime(\"%Y%m%d-%H%M%S\"))\n",
        "run_time_string = datetime.datetime.utcnow().isoformat(timespec='minutes')\n",
        "\n",
        "model_path = f'nn_results/ay250_autoencoder_nn_{run_time_string}.h5'\n",
        "print(f\"Training ... {model_path}\")\n",
        "\n",
        "\n",
        "model_check = tf.keras.callbacks.ModelCheckpoint(model_path,\n",
        "                                                 monitor='val_loss',\n",
        "                                                 save_best_only=True,\n",
        "                                                 mode='min',\n",
        "                                                 verbose=1)\n",
        "\n",
        "tensorboard_callback = \\\n",
        "    tensorflow.keras.callbacks.TensorBoard(logdir,\n",
        "                                           histogram_freq=0,\n",
        "                                           write_graph=True,\n",
        "                                           write_grads=False,\n",
        "                                           write_images=False,\n",
        "                                           embeddings_freq=0,\n",
        "                                           embeddings_layer_names=None,\n",
        "                                           embeddings_metadata=None, embeddings_data=None)\n",
        "\n",
        "autoencoder.compile(optimizer='adam', loss='mean_squared_error')\n",
        "\n",
        "autoencoder_train = autoencoder.fit(x_train, x_train,\n",
        "                                    batch_size=batch_size, epochs=10,\n",
        "                                    verbose=1, shuffle=False,\n",
        "                                    validation_data=(x_test, x_test),\n",
        "                                    callbacks=[tensorboard_callback, model_check])"
      ]
    },
    {
      "cell_type": "code",
      "execution_count": null,
      "id": "obvious-tampa",
      "metadata": {
        "colab": {
          "base_uri": "https://localhost:8080/"
        },
        "id": "obvious-tampa",
        "outputId": "97b81701-5875-4b97-e678-f13dc90ceca2"
      },
      "outputs": [
        {
          "output_type": "stream",
          "name": "stdout",
          "text": [
            "Using nn_results/ay250_autoencoder_nn_2022-04-03T23:18.h5\n"
          ]
        }
      ],
      "source": [
        "from tensorflow.keras.models import load_model\n",
        "latest_model_file = !ls -t1 nn_results/ay250_*.h5 | head -1\n",
        "latest_model_file = latest_model_file[0]\n",
        "print(f\"Using {latest_model_file}\")\n",
        "autoencoder = load_model(latest_model_file)"
      ]
    },
    {
      "cell_type": "code",
      "execution_count": null,
      "id": "unauthorized-advice",
      "metadata": {
        "colab": {
          "base_uri": "https://localhost:8080/",
          "height": 248
        },
        "id": "unauthorized-advice",
        "outputId": "ab726e75-e134-40b6-c091-984c78062d4f"
      },
      "outputs": [
        {
          "output_type": "display_data",
          "data": {
            "text/plain": [
              "<Figure size 1440x288 with 20 Axes>"
            ],
            "image/png": "[encoded data removed]"
          },
          "metadata": {
            "needs_background": "light"
          }
        }
      ],
      "source": [
        "decoded_imgs = autoencoder.predict(x_test)\n",
        "\n",
        "n = 10\n",
        "plt.figure(figsize=(20, 4))\n",
        "\n",
        "for i in range(n):\n",
        "    # display original\n",
        "    ax = plt.subplot(2, n, i+1)\n",
        "    plt.imshow(x_test[i].reshape(28, 28))\n",
        "    plt.gray()\n",
        "    ax.get_xaxis().set_visible(False)\n",
        "    ax.get_yaxis().set_visible(False)\n",
        "\n",
        "    # display reconstruction\n",
        "    ax = plt.subplot(2, n, i + n + 1)\n",
        "    plt.imshow(decoded_imgs[i].reshape(28, 28))\n",
        "    plt.gray()\n",
        "    ax.get_xaxis().set_visible(False)\n",
        "    ax.get_yaxis().set_visible(False)\n",
        "plt.show()"
      ]
    },
    {
      "cell_type": "markdown",
      "id": "abstract-decline",
      "metadata": {
        "id": "abstract-decline"
      },
      "source": [
        "### Classify using Random Forest\n",
        "\n",
        "Using the autoencoder model above, create a random forest model to predict the classes of the images using the 64-parameter bottleneck layer. What accuracy do you get? How does it compare with the accuracy we got on the `convnet` model before?"
      ]
    },
    {
      "cell_type": "code",
      "execution_count": null,
      "id": "rotary-replication",
      "metadata": {
        "id": "rotary-replication"
      },
      "outputs": [],
      "source": [
        ""
      ]
    },
    {
      "cell_type": "markdown",
      "id": "sensitive-deputy",
      "metadata": {
        "id": "sensitive-deputy"
      },
      "source": [
        "### Bottleneck size variation\n",
        "\n",
        "Experiment with trying a different sized layer (e.g., size 4, 16, 32) and repeat step a) above. Do you see any trends with bottleneck size?"
      ]
    },
    {
      "cell_type": "code",
      "execution_count": null,
      "id": "aboriginal-cooperation",
      "metadata": {
        "id": "aboriginal-cooperation"
      },
      "outputs": [],
      "source": [
        ""
      ]
    }
  ],
  "metadata": {
    "kernelspec": {
      "display_name": "Python 3 (ipykernel)",
      "language": "python",
      "name": "python3"
    },
    "language_info": {
      "codemirror_mode": {
        "name": "ipython",
        "version": 3
      },
      "file_extension": ".py",
      "mimetype": "text/x-python",
      "name": "python",
      "nbconvert_exporter": "python",
      "pygments_lexer": "ipython3",
      "version": "3.9.9"
    },
    "toc": {
      "base_numbering": 1,
      "nav_menu": {},
      "number_sections": true,
      "sideBar": true,
      "skip_h1_title": false,
      "title_cell": "Table of Contents",
      "title_sidebar": "Contents",
      "toc_cell": false,
      "toc_position": {},
      "toc_section_display": true,
      "toc_window_display": false
    },
    "varInspector": {
      "cols": {
        "lenName": 16,
        "lenType": 16,
        "lenVar": 40
      },
      "kernels_config": {
        "python": {
          "delete_cmd_postfix": "",
          "delete_cmd_prefix": "del ",
          "library": "var_list.py",
          "varRefreshCmd": "print(var_dic_list())"
        },
        "r": {
          "delete_cmd_postfix": ") ",
          "delete_cmd_prefix": "rm(",
          "library": "var_list.r",
          "varRefreshCmd": "cat(var_dic_list()) "
        }
      },
      "types_to_exclude": [
        "module",
        "function",
        "builtin_function_or_method",
        "instance",
        "_Feature"
      ],
      "window_display": false
    },
    "colab": {
      "name": "hw6_ml.ipynb",
      "provenance": [],
      "include_colab_link": true
    },
    "accelerator": "GPU"
  },
  "nbformat": 4,
  "nbformat_minor": 5
}