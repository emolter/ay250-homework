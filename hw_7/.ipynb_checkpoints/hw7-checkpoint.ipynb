{
 "cells": [
  {
   "cell_type": "markdown",
   "id": "15f8cefc",
   "metadata": {},
   "source": [
    "Create a flask-based web database for BibTex data. Should support inputting .bib files as a \"collection\" with a user-defined name. Database should pass user-entered SQLite statements through to database, and show columns for author list, journal, volume, etc. Turn this into a public GitHub repo"
   ]
  },
  {
   "cell_type": "code",
   "execution_count": null,
   "id": "89264bdb",
   "metadata": {},
   "outputs": [],
   "source": [
    "# testing pybtex parsing\n",
    "\n",
    "from pybtex import database\n",
    "import pybtex\n",
    "print(pybtex.__version__)\n",
    "bib_data = database.parse_file('hw_7_data/homework_7_refs.bib')"
   ]
  },
  {
   "cell_type": "code",
   "execution_count": null,
   "id": "5c4e45b6",
   "metadata": {},
   "outputs": [],
   "source": [
    "# Web server\n",
    "%%writefile bibtex_server.py\n",
    "import flask\n",
    "import flask_sqlalchemy\n",
    "import flask_restless\n",
    "import pybtex\n",
    "\n",
    "app = flask.Flask(__name__)\n",
    "app.config[\"DEBUG\"] = True\n",
    "app.config[\"SQLALCHEMY_DATABASE_URI\"] = \"sqlite:////tmp/test_new.db\"\n",
    "app.config[\"SQLALCHEMY_TRACK_MODIFICATIONS\"] = False\n",
    "\n",
    "db = flask_sqlalchemy.SQLAlchemy(app)\n",
    "\n",
    "class Member(db.Model):\n",
    "        # __tablename __ = \"newsletter_members\"\n",
    "        id = db.Column(db.Integer,primary_key=True)\n",
    "        last_name = db.Column(db.String(50))\n",
    "        first_name = db.Column(db.String(120))\n",
    "        email = db.Column(db.String(120),unique=True)\n",
    "\n",
    "db.create_all()\n",
    "\n",
    "manager = flask_restless.APIManager(app,flask_sqlalchemy_db=db)\n",
    "\n",
    "manager.create_api(Member,methods=[\"GET\",\"POST\"])\n",
    "\n",
    "\n",
    "\n",
    "if __name__ == \"__main__\":\n",
    "    app.run(port=5021)"
   ]
  }
 ],
 "metadata": {
  "kernelspec": {
   "display_name": "Python 3 (ipykernel)",
   "language": "python",
   "name": "python3"
  },
  "language_info": {
   "codemirror_mode": {
    "name": "ipython",
    "version": 3
   },
   "file_extension": ".py",
   "mimetype": "text/x-python",
   "name": "python",
   "nbconvert_exporter": "python",
   "pygments_lexer": "ipython3",
   "version": "3.9.9"
  }
 },
 "nbformat": 4,
 "nbformat_minor": 5
}
