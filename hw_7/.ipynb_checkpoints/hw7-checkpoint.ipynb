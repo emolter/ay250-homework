{
 "cells": [
  {
   "cell_type": "markdown",
   "id": "4b491453",
   "metadata": {},
   "source": [
    "Create a flask-based web database for BibTex data. Should support inputting .bib files as a \"collection\" with a user-defined name. Database should pass user-entered SQLite statements through to database, and show columns for author list, journal, volume, etc. Turn this into a public GitHub repo"
   ]
  },
  {
   "cell_type": "code",
   "execution_count": 9,
   "id": "b46d6771",
   "metadata": {},
   "outputs": [
    {
     "name": "stdout",
     "output_type": "stream",
     "text": [
      "Requirement already satisfied: flask-restless in /srv/conda/envs/notebook/lib/python3.9/site-packages (0.17.0)\n",
      "Requirement already satisfied: flask-sqlalchemy in /srv/conda/envs/notebook/lib/python3.9/site-packages (2.5.1)\n",
      "Requirement already satisfied: sqlalchemy>=0.8 in /srv/conda/envs/notebook/lib/python3.9/site-packages (from flask-restless) (1.4.32)\n",
      "Requirement already satisfied: python-dateutil>2.0 in /srv/conda/envs/notebook/lib/python3.9/site-packages (from flask-restless) (2.8.2)\n",
      "Requirement already satisfied: mimerender>=0.5.2 in /srv/conda/envs/notebook/lib/python3.9/site-packages (from flask-restless) (0.6.0)\n",
      "Requirement already satisfied: flask>=0.10 in /srv/conda/envs/notebook/lib/python3.9/site-packages (from flask-restless) (2.0.3)\n",
      "Requirement already satisfied: Jinja2>=3.0 in /srv/conda/envs/notebook/lib/python3.9/site-packages (from flask>=0.10->flask-restless) (3.0.3)\n",
      "Requirement already satisfied: itsdangerous>=2.0 in /srv/conda/envs/notebook/lib/python3.9/site-packages (from flask>=0.10->flask-restless) (2.1.0)\n",
      "Requirement already satisfied: Werkzeug>=2.0 in /srv/conda/envs/notebook/lib/python3.9/site-packages (from flask>=0.10->flask-restless) (2.0.3)\n",
      "Requirement already satisfied: click>=7.1.2 in /srv/conda/envs/notebook/lib/python3.9/site-packages (from flask>=0.10->flask-restless) (8.0.4)\n",
      "Requirement already satisfied: python-mimeparse>=0.1.4 in /srv/conda/envs/notebook/lib/python3.9/site-packages (from mimerender>=0.5.2->flask-restless) (1.6.0)\n",
      "Requirement already satisfied: six>=1.5 in /srv/conda/envs/notebook/lib/python3.9/site-packages (from python-dateutil>2.0->flask-restless) (1.16.0)\n",
      "Requirement already satisfied: greenlet!=0.4.17 in /srv/conda/envs/notebook/lib/python3.9/site-packages (from sqlalchemy>=0.8->flask-restless) (1.1.2)\n",
      "Requirement already satisfied: MarkupSafe>=2.0 in /srv/conda/envs/notebook/lib/python3.9/site-packages (from Jinja2>=3.0->flask>=0.10->flask-restless) (2.0.1)\n",
      "Collecting pybtex\n",
      "  Using cached pybtex-0.24.0-py2.py3-none-any.whl (561 kB)\n",
      "Collecting latexcodec>=1.0.4\n",
      "  Using cached latexcodec-2.0.1-py2.py3-none-any.whl (18 kB)\n",
      "Collecting six\n",
      "  Downloading six-1.16.0-py2.py3-none-any.whl (11 kB)\n",
      "Collecting PyYAML>=3.01\n",
      "  Downloading PyYAML-6.0-cp39-cp39-manylinux_2_5_x86_64.manylinux1_x86_64.manylinux_2_12_x86_64.manylinux2010_x86_64.whl (661 kB)\n",
      "     |████████████████████████████████| 661 kB 4.6 MB/s            \n",
      "\u001b[?25hInstalling collected packages: six, PyYAML, latexcodec, pybtex\n",
      "  Attempting uninstall: six\n",
      "    Found existing installation: six 1.16.0\n",
      "    Uninstalling six-1.16.0:\n",
      "      Successfully uninstalled six-1.16.0\n",
      "  Attempting uninstall: PyYAML\n",
      "    Found existing installation: PyYAML 6.0\n",
      "    Uninstalling PyYAML-6.0:\n",
      "      Successfully uninstalled PyYAML-6.0\n",
      "  Attempting uninstall: latexcodec\n",
      "    Found existing installation: latexcodec 2.0.1\n",
      "    Uninstalling latexcodec-2.0.1:\n",
      "      Successfully uninstalled latexcodec-2.0.1\n",
      "  Attempting uninstall: pybtex\n",
      "    Found existing installation: pybtex 0.24.0\n",
      "    Uninstalling pybtex-0.24.0:\n",
      "      Successfully uninstalled pybtex-0.24.0\n",
      "\u001b[31mERROR: pip's dependency resolver does not currently take into account all the packages that are installed. This behaviour is the source of the following dependency conflicts.\n",
      "pytorch-lightning 1.5.10 requires pyDeprecate==0.3.1, but you have pydeprecate 0.3.2 which is incompatible.\u001b[0m\n",
      "Successfully installed PyYAML-6.0 latexcodec-2.0.1 pybtex-0.24.0 six-1.16.0\n"
     ]
    }
   ],
   "source": [
    "!pip install flask-restless flask-sqlalchemy\n",
    "!pip install --upgrade --force-reinstall pybtex"
   ]
  },
  {
   "cell_type": "code",
   "execution_count": 11,
   "id": "220ec2e1",
   "metadata": {},
   "outputs": [
    {
     "ename": "PluginNotFound",
     "evalue": "plugin pybtex.database.input.bibtex not found",
     "output_type": "error",
     "traceback": [
      "\u001b[0;31m---------------------------------------------------------------------------\u001b[0m",
      "\u001b[0;31mPluginNotFound\u001b[0m                            Traceback (most recent call last)",
      "\u001b[0;32m/tmp/ipykernel_80/106254695.py\u001b[0m in \u001b[0;36m<module>\u001b[0;34m\u001b[0m\n\u001b[1;32m      1\u001b[0m \u001b[0;31m# testing pybtex parsing\u001b[0m\u001b[0;34m\u001b[0m\u001b[0;34m\u001b[0m\u001b[0m\n\u001b[1;32m      2\u001b[0m \u001b[0;32mfrom\u001b[0m \u001b[0mpybtex\u001b[0m \u001b[0;32mimport\u001b[0m \u001b[0mdatabase\u001b[0m\u001b[0;34m\u001b[0m\u001b[0;34m\u001b[0m\u001b[0m\n\u001b[0;32m----> 3\u001b[0;31m \u001b[0mbib_data\u001b[0m \u001b[0;34m=\u001b[0m \u001b[0mdatabase\u001b[0m\u001b[0;34m.\u001b[0m\u001b[0mparse_file\u001b[0m\u001b[0;34m(\u001b[0m\u001b[0;34m'hw7_data/homework_7_refs.bib'\u001b[0m\u001b[0;34m,\u001b[0m \u001b[0;34m\"bibtex\"\u001b[0m\u001b[0;34m)\u001b[0m\u001b[0;34m\u001b[0m\u001b[0;34m\u001b[0m\u001b[0m\n\u001b[0m",
      "\u001b[0;32m/srv/conda/envs/notebook/lib/python3.9/site-packages/pybtex/database/__init__.py\u001b[0m in \u001b[0;36mparse_file\u001b[0;34m(file, bib_format, **kwargs)\u001b[0m\n\u001b[1;32m    925\u001b[0m         \u001b[0mfilename\u001b[0m \u001b[0;34m=\u001b[0m \u001b[0mgetattr\u001b[0m\u001b[0;34m(\u001b[0m\u001b[0mfile\u001b[0m\u001b[0;34m,\u001b[0m \u001b[0;34m'name'\u001b[0m\u001b[0;34m,\u001b[0m \u001b[0;32mNone\u001b[0m\u001b[0;34m)\u001b[0m\u001b[0;34m\u001b[0m\u001b[0;34m\u001b[0m\u001b[0m\n\u001b[1;32m    926\u001b[0m \u001b[0;34m\u001b[0m\u001b[0m\n\u001b[0;32m--> 927\u001b[0;31m     \u001b[0mparser\u001b[0m \u001b[0;34m=\u001b[0m \u001b[0mfind_plugin\u001b[0m\u001b[0;34m(\u001b[0m\u001b[0;34m'pybtex.database.input'\u001b[0m\u001b[0;34m,\u001b[0m \u001b[0mbib_format\u001b[0m\u001b[0;34m,\u001b[0m \u001b[0mfilename\u001b[0m\u001b[0;34m=\u001b[0m\u001b[0mfilename\u001b[0m\u001b[0;34m)\u001b[0m\u001b[0;34m(\u001b[0m\u001b[0;34m**\u001b[0m\u001b[0mkwargs\u001b[0m\u001b[0;34m)\u001b[0m\u001b[0;34m\u001b[0m\u001b[0;34m\u001b[0m\u001b[0m\n\u001b[0m\u001b[1;32m    928\u001b[0m     \u001b[0;32mreturn\u001b[0m \u001b[0mparser\u001b[0m\u001b[0;34m.\u001b[0m\u001b[0mparse_file\u001b[0m\u001b[0;34m(\u001b[0m\u001b[0mfile\u001b[0m\u001b[0;34m)\u001b[0m\u001b[0;34m\u001b[0m\u001b[0;34m\u001b[0m\u001b[0m\n\u001b[1;32m    929\u001b[0m \u001b[0;34m\u001b[0m\u001b[0m\n",
      "\u001b[0;32m/srv/conda/envs/notebook/lib/python3.9/site-packages/pybtex/plugin/__init__.py\u001b[0m in \u001b[0;36mfind_plugin\u001b[0;34m(plugin_group, name, filename)\u001b[0m\n\u001b[1;32m    104\u001b[0m         \u001b[0;32mraise\u001b[0m \u001b[0mPluginGroupNotFound\u001b[0m\u001b[0;34m(\u001b[0m\u001b[0mplugin_group\u001b[0m\u001b[0;34m)\u001b[0m\u001b[0;34m\u001b[0m\u001b[0;34m\u001b[0m\u001b[0m\n\u001b[1;32m    105\u001b[0m     \u001b[0;32mif\u001b[0m \u001b[0mname\u001b[0m\u001b[0;34m:\u001b[0m\u001b[0;34m\u001b[0m\u001b[0;34m\u001b[0m\u001b[0m\n\u001b[0;32m--> 106\u001b[0;31m         \u001b[0;32mreturn\u001b[0m \u001b[0m_load_entry_point\u001b[0m\u001b[0;34m(\u001b[0m\u001b[0mplugin_group\u001b[0m\u001b[0;34m,\u001b[0m \u001b[0mname\u001b[0m\u001b[0;34m,\u001b[0m \u001b[0muse_aliases\u001b[0m\u001b[0;34m=\u001b[0m\u001b[0;32mTrue\u001b[0m\u001b[0;34m)\u001b[0m\u001b[0;34m\u001b[0m\u001b[0;34m\u001b[0m\u001b[0m\n\u001b[0m\u001b[1;32m    107\u001b[0m     \u001b[0;32melif\u001b[0m \u001b[0mfilename\u001b[0m\u001b[0;34m:\u001b[0m\u001b[0;34m\u001b[0m\u001b[0;34m\u001b[0m\u001b[0m\n\u001b[1;32m    108\u001b[0m         \u001b[0msuffix\u001b[0m \u001b[0;34m=\u001b[0m \u001b[0mos\u001b[0m\u001b[0;34m.\u001b[0m\u001b[0mpath\u001b[0m\u001b[0;34m.\u001b[0m\u001b[0msplitext\u001b[0m\u001b[0;34m(\u001b[0m\u001b[0mfilename\u001b[0m\u001b[0;34m)\u001b[0m\u001b[0;34m[\u001b[0m\u001b[0;36m1\u001b[0m\u001b[0;34m]\u001b[0m\u001b[0;34m\u001b[0m\u001b[0;34m\u001b[0m\u001b[0m\n",
      "\u001b[0;32m/srv/conda/envs/notebook/lib/python3.9/site-packages/pybtex/plugin/__init__.py\u001b[0m in \u001b[0;36m_load_entry_point\u001b[0;34m(group, name, use_aliases)\u001b[0m\n\u001b[1;32m     79\u001b[0m         \u001b[0;32mfor\u001b[0m \u001b[0mentry_point\u001b[0m \u001b[0;32min\u001b[0m \u001b[0mpkg_resources\u001b[0m\u001b[0;34m.\u001b[0m\u001b[0miter_entry_points\u001b[0m\u001b[0;34m(\u001b[0m\u001b[0msearch_group\u001b[0m\u001b[0;34m,\u001b[0m \u001b[0mname\u001b[0m\u001b[0;34m)\u001b[0m\u001b[0;34m:\u001b[0m\u001b[0;34m\u001b[0m\u001b[0;34m\u001b[0m\u001b[0m\n\u001b[1;32m     80\u001b[0m             \u001b[0;32mreturn\u001b[0m \u001b[0mentry_point\u001b[0m\u001b[0;34m.\u001b[0m\u001b[0mload\u001b[0m\u001b[0;34m(\u001b[0m\u001b[0;34m)\u001b[0m\u001b[0;34m\u001b[0m\u001b[0;34m\u001b[0m\u001b[0m\n\u001b[0;32m---> 81\u001b[0;31m     \u001b[0;32mraise\u001b[0m \u001b[0mPluginNotFound\u001b[0m\u001b[0;34m(\u001b[0m\u001b[0mgroup\u001b[0m\u001b[0;34m,\u001b[0m \u001b[0mname\u001b[0m\u001b[0;34m)\u001b[0m\u001b[0;34m\u001b[0m\u001b[0;34m\u001b[0m\u001b[0m\n\u001b[0m\u001b[1;32m     82\u001b[0m \u001b[0;34m\u001b[0m\u001b[0m\n\u001b[1;32m     83\u001b[0m \u001b[0;34m\u001b[0m\u001b[0m\n",
      "\u001b[0;31mPluginNotFound\u001b[0m: plugin pybtex.database.input.bibtex not found"
     ]
    }
   ],
   "source": [
    "# testing pybtex parsing\n",
    "from pybtex import database\n",
    "bib_data = database.parse_file('hw7_data/homework_7_refs.bib', \"bibtex\")"
   ]
  },
  {
   "cell_type": "code",
   "execution_count": null,
   "id": "d54f17c9",
   "metadata": {},
   "outputs": [],
   "source": [
    "# Web server\n",
    "%%writefile bibtex_server.py\n",
    "import flask\n",
    "import flask_sqlalchemy\n",
    "import flask_restless\n",
    "import pybtex\n",
    "\n",
    "app = flask.Flask(__name__)\n",
    "app.config[\"DEBUG\"] = True\n",
    "app.config[\"SQLALCHEMY_DATABASE_URI\"] = \"sqlite:////tmp/test_new.db\"\n",
    "app.config[\"SQLALCHEMY_TRACK_MODIFICATIONS\"] = False\n",
    "\n",
    "db = flask_sqlalchemy.SQLAlchemy(app)\n",
    "\n",
    "class Member(db.Model):\n",
    "        # __tablename __ = \"newsletter_members\"\n",
    "        id = db.Column(db.Integer,primary_key=True)\n",
    "        last_name = db.Column(db.String(50))\n",
    "        first_name = db.Column(db.String(120))\n",
    "        email = db.Column(db.String(120),unique=True)\n",
    "\n",
    "db.create_all()\n",
    "\n",
    "manager = flask_restless.APIManager(app,flask_sqlalchemy_db=db)\n",
    "\n",
    "manager.create_api(Member,methods=[\"GET\",\"POST\"])\n",
    "\n",
    "\n",
    "\n",
    "if __name__ == \"__main__\":\n",
    "    app.run(port=5021)"
   ]
  }
 ],
 "metadata": {
  "kernelspec": {
   "display_name": "Python 3 (ipykernel)",
   "language": "python",
   "name": "python3"
  },
  "language_info": {
   "codemirror_mode": {
    "name": "ipython",
    "version": 3
   },
   "file_extension": ".py",
   "mimetype": "text/x-python",
   "name": "python",
   "nbconvert_exporter": "python",
   "pygments_lexer": "ipython3",
   "version": "3.9.9"
  }
 },
 "nbformat": 4,
 "nbformat_minor": 5
}
